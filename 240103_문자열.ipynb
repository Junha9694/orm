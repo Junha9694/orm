{
  "nbformat": 4,
  "nbformat_minor": 0,
  "metadata": {
    "colab": {
      "provenance": [],
      "authorship_tag": "ABX9TyMDx9g0xP55Ry9+4YNczI3O",
      "include_colab_link": true
    },
    "kernelspec": {
      "name": "python3",
      "display_name": "Python 3"
    },
    "language_info": {
      "name": "python"
    }
  },
  "cells": [
    {
      "cell_type": "markdown",
      "metadata": {
        "id": "view-in-github",
        "colab_type": "text"
      },
      "source": [
        "<a href=\"https://colab.research.google.com/github/Junha9694/orm/blob/main/240103_%EB%AC%B8%EC%9E%90%EC%97%B4.ipynb\" target=\"_parent\"><img src=\"https://colab.research.google.com/assets/colab-badge.svg\" alt=\"Open In Colab\"/></a>"
      ]
    },
    {
      "cell_type": "markdown",
      "source": [
        "# 1. 문자열"
      ],
      "metadata": {
        "id": "Vk5hBU05yLIw"
      }
    },
    {
      "cell_type": "code",
      "execution_count": 9,
      "metadata": {
        "id": "TrG0rlrWyEPc"
      },
      "outputs": [],
      "source": [
        "# 1.1 문자열\n",
        "\n",
        "x = 'hello'\n",
        "y = \"안녕하세요 기준하 입니다. 반갑습니다 python\" # 짧은 문장할때 ' 하나로"
      ]
    },
    {
      "cell_type": "code",
      "source": [
        "print(x, y)"
      ],
      "metadata": {
        "colab": {
          "base_uri": "https://localhost:8080/"
        },
        "id": "orRCGdClyT9e",
        "outputId": "4eef5e1c-9bc7-42a6-f4aa-99d03802be3c"
      },
      "execution_count": 10,
      "outputs": [
        {
          "output_type": "stream",
          "name": "stdout",
          "text": [
            "hello 안녕하세요 기준하 입니다. 반갑습니다 python\n"
          ]
        }
      ]
    },
    {
      "cell_type": "code",
      "source": [
        "print(type(x), type(y))"
      ],
      "metadata": {
        "colab": {
          "base_uri": "https://localhost:8080/"
        },
        "id": "1IxpUE3tyW1j",
        "outputId": "8b4bd5f3-afff-416c-8e8f-da1aaeff427f"
      },
      "execution_count": 3,
      "outputs": [
        {
          "output_type": "stream",
          "name": "stdout",
          "text": [
            "<class 'str'> <class 'str'>\n"
          ]
        }
      ]
    },
    {
      "cell_type": "code",
      "source": [
        "# 긴 문장을 사용할때 ''' 3개 사용하면 좋다\n",
        "i = '''\n",
        "안녕하세요 기준하 입니다\n",
        "반갑습니다\n",
        "'''\n",
        "\n",
        "\n",
        "\n",
        "j = \"\"\"\n",
        "안녕하세요 기준하 입니다\n",
        "반갑습니다\n",
        "\"\"\""
      ],
      "metadata": {
        "id": "oanzOwpFybiB"
      },
      "execution_count": 4,
      "outputs": []
    },
    {
      "cell_type": "code",
      "source": [
        "i"
      ],
      "metadata": {
        "colab": {
          "base_uri": "https://localhost:8080/",
          "height": 36
        },
        "id": "s4R7_j99yopO",
        "outputId": "6b17e485-73de-4333-de03-7704ab6585d2"
      },
      "execution_count": 5,
      "outputs": [
        {
          "output_type": "execute_result",
          "data": {
            "text/plain": [
              "'\\n안녕하세요 기준하 입니다\\n반갑습니다\\n'"
            ],
            "application/vnd.google.colaboratory.intrinsic+json": {
              "type": "string"
            }
          },
          "metadata": {},
          "execution_count": 5
        }
      ]
    },
    {
      "cell_type": "code",
      "source": [
        "print(i)"
      ],
      "metadata": {
        "colab": {
          "base_uri": "https://localhost:8080/"
        },
        "id": "7HJDeLKgyp2d",
        "outputId": "b8dc6fbf-555e-49d4-93a4-28302a03de71"
      },
      "execution_count": 6,
      "outputs": [
        {
          "output_type": "stream",
          "name": "stdout",
          "text": [
            "\n",
            "안녕하세요 기준하 입니다\n",
            "반갑습니다\n",
            "\n"
          ]
        }
      ]
    },
    {
      "cell_type": "code",
      "source": [
        "print(j)"
      ],
      "metadata": {
        "colab": {
          "base_uri": "https://localhost:8080/"
        },
        "id": "j5LE4X_Ryrvt",
        "outputId": "a90df881-c523-4819-d164-7f58d16bf043"
      },
      "execution_count": 7,
      "outputs": [
        {
          "output_type": "stream",
          "name": "stdout",
          "text": [
            "\n",
            "안녕하세요 기준하 입니다\n",
            "반갑습니다\n",
            "\n"
          ]
        }
      ]
    },
    {
      "cell_type": "code",
      "source": [
        "print(type(i), type(j))"
      ],
      "metadata": {
        "colab": {
          "base_uri": "https://localhost:8080/"
        },
        "id": "oK8IDWulytG0",
        "outputId": "395e92c4-e862-421f-f356-c29617f10700"
      },
      "execution_count": 8,
      "outputs": [
        {
          "output_type": "stream",
          "name": "stdout",
          "text": [
            "<class 'str'> <class 'str'>\n"
          ]
        }
      ]
    },
    {
      "cell_type": "code",
      "source": [
        "# 1.2 문자열 합산 곱산\n",
        "x = 'hello'\n",
        "y = 'world'\n",
        "print(x+y)\n",
        "\n",
        "x = '10'\n",
        "y = '20'\n",
        "print(x+y) # 문자열 덧셈도 가능\n",
        "\n",
        "print(x*3) # 문자열 곱셈도 가능"
      ],
      "metadata": {
        "colab": {
          "base_uri": "https://localhost:8080/"
        },
        "id": "u-F1aBNZyxLS",
        "outputId": "6eba4bb0-c04b-48f8-cb9c-8a2402756f5b"
      },
      "execution_count": 14,
      "outputs": [
        {
          "output_type": "stream",
          "name": "stdout",
          "text": [
            "helloworld\n",
            "1020\n",
            "101010\n"
          ]
        }
      ]
    },
    {
      "cell_type": "code",
      "source": [
        "# 1.3 문자열 인덱싱\n",
        "s = '위니브 월드!'\n",
        "print(s[0])\n",
        "print(s[6])\n",
        "print(s[5])"
      ],
      "metadata": {
        "colab": {
          "base_uri": "https://localhost:8080/"
        },
        "id": "XZjN1MN72aVl",
        "outputId": "3de89192-ec69-44e3-c6fa-6ef95e98d676"
      },
      "execution_count": 13,
      "outputs": [
        {
          "output_type": "stream",
          "name": "stdout",
          "text": [
            "위\n",
            "!\n",
            "드\n"
          ]
        }
      ]
    },
    {
      "cell_type": "code",
      "source": [
        "# 1.4 문자열 슬라이싱\n",
        "s = '위니브 월드 외곽'\n",
        "print(s[0:9:2]) # 끊어서 사용\n",
        "print(s[0:7]) # 0 ~ 7까지"
      ],
      "metadata": {
        "colab": {
          "base_uri": "https://localhost:8080/"
        },
        "id": "3utM0zSn3Fj9",
        "outputId": "5c92b29a-bcd2-4710-9ece-24c80e322dca"
      },
      "execution_count": 15,
      "outputs": [
        {
          "output_type": "stream",
          "name": "stdout",
          "text": [
            "위브월 곽\n",
            "위니브 월드 \n"
          ]
        }
      ]
    },
    {
      "cell_type": "code",
      "source": [
        "s = '    weniv CEO licat     '\n",
        "s.strip() #양쪽 공백을 제거하는 method"
      ],
      "metadata": {
        "colab": {
          "base_uri": "https://localhost:8080/",
          "height": 36
        },
        "id": "LYbvNy2yCHsx",
        "outputId": "a4f55bea-3c31-400f-abb7-00451a68a18a"
      },
      "execution_count": 52,
      "outputs": [
        {
          "output_type": "execute_result",
          "data": {
            "text/plain": [
              "'weniv CEO licat'"
            ],
            "application/vnd.google.colaboratory.intrinsic+json": {
              "type": "string"
            }
          },
          "metadata": {},
          "execution_count": 52
        }
      ]
    },
    {
      "cell_type": "code",
      "source": [
        "s = 'weniv CEO licat'\n",
        "print(s[6:]) # 6번이후 문자열부터 시작\n",
        "print(s[:]) # 전체사용\n",
        "print(s[::-1]) # 반대로 출력\n",
        "print(s[::2]) # 2칸씩 생략 끊어서\n",
        "\n",
        "n = '123456789'\n",
        "print(n[6:]) # 6번이후 문자열부터 시작\n",
        "print(n[:]) # 전체사용\n",
        "print(n[::-1]) # 반대로 출력\n",
        "print(n[::2]) # 2칸씩 생략 끊어서"
      ],
      "metadata": {
        "colab": {
          "base_uri": "https://localhost:8080/"
        },
        "id": "_CZjGiPO43g6",
        "outputId": "666193f6-8c6f-4c95-9365-1ccc4eb22c8e"
      },
      "execution_count": 17,
      "outputs": [
        {
          "output_type": "stream",
          "name": "stdout",
          "text": [
            "CEO licat\n",
            "weniv CEO licat\n",
            "tacil OEC vinew\n",
            "wnvCOlct\n",
            "789\n",
            "123456789\n",
            "987654321\n",
            "13579\n"
          ]
        }
      ]
    },
    {
      "cell_type": "code",
      "source": [
        "s = 'weniv_licat.png'\n",
        "print(s[0:11]) # 끊어서 사용\n",
        "print(s[0:-4])\n"
      ],
      "metadata": {
        "colab": {
          "base_uri": "https://localhost:8080/"
        },
        "id": "xlUpajnN5TXM",
        "outputId": "9907c2e0-152d-48fa-97d4-27858385d9ad"
      },
      "execution_count": 19,
      "outputs": [
        {
          "output_type": "stream",
          "name": "stdout",
          "text": [
            "weniv_licat\n",
            "weniv_licat\n"
          ]
        }
      ]
    },
    {
      "cell_type": "code",
      "source": [
        "s = 'weniv_licat.png'  # png만 나오게\n",
        "print(s[12:]) # 끊어서 사용\n",
        "print(s[-3:])"
      ],
      "metadata": {
        "colab": {
          "base_uri": "https://localhost:8080/"
        },
        "id": "dayNJzwn7An8",
        "outputId": "078d8a03-8815-458c-ba8e-ac2adde2449c"
      },
      "execution_count": 27,
      "outputs": [
        {
          "output_type": "stream",
          "name": "stdout",
          "text": [
            "png\n",
            "png\n"
          ]
        }
      ]
    },
    {
      "cell_type": "code",
      "source": [
        "s = 'weniv CEO licat'\n",
        "s.lower() # 전체를 소문자로 바꿔주는 method"
      ],
      "metadata": {
        "colab": {
          "base_uri": "https://localhost:8080/",
          "height": 36
        },
        "id": "Rg8fYBob7j6j",
        "outputId": "6927c0fe-9624-4112-9b35-c0de07f9c29d"
      },
      "execution_count": 39,
      "outputs": [
        {
          "output_type": "execute_result",
          "data": {
            "text/plain": [
              "'weniv ceo licat'"
            ],
            "application/vnd.google.colaboratory.intrinsic+json": {
              "type": "string"
            }
          },
          "metadata": {},
          "execution_count": 39
        }
      ]
    },
    {
      "cell_type": "code",
      "source": [
        "s.find('i') #문자열을 찾아주는 method"
      ],
      "metadata": {
        "colab": {
          "base_uri": "https://localhost:8080/"
        },
        "id": "s_kpqicb9Tw-",
        "outputId": "32a05ccb-95bf-4f43-8089-4868f72d147a"
      },
      "execution_count": 48,
      "outputs": [
        {
          "output_type": "execute_result",
          "data": {
            "text/plain": [
              "3"
            ]
          },
          "metadata": {},
          "execution_count": 48
        }
      ]
    },
    {
      "cell_type": "code",
      "source": [
        "s.upper() # 전체를 대문자로 바꿔주는 method"
      ],
      "metadata": {
        "colab": {
          "base_uri": "https://localhost:8080/",
          "height": 36
        },
        "id": "C4xW7kMP9i26",
        "outputId": "6d4d64c0-586f-4578-ee5e-b12bfe3b9bfc"
      },
      "execution_count": 38,
      "outputs": [
        {
          "output_type": "execute_result",
          "data": {
            "text/plain": [
              "'WENIV CEO LICAT'"
            ],
            "application/vnd.google.colaboratory.intrinsic+json": {
              "type": "string"
            }
          },
          "metadata": {},
          "execution_count": 38
        }
      ]
    },
    {
      "cell_type": "code",
      "source": [
        "s.replace('CEO', 'AND') #특정 단어를 변경"
      ],
      "metadata": {
        "colab": {
          "base_uri": "https://localhost:8080/",
          "height": 36
        },
        "id": "EiJgD4dQ9kfv",
        "outputId": "8d0d9b2f-9901-4766-cdeb-0bd22b36dde1"
      },
      "execution_count": 43,
      "outputs": [
        {
          "output_type": "execute_result",
          "data": {
            "text/plain": [
              "'weniv AND licat'"
            ],
            "application/vnd.google.colaboratory.intrinsic+json": {
              "type": "string"
            }
          },
          "metadata": {},
          "execution_count": 43
        }
      ]
    },
    {
      "cell_type": "code",
      "source": [
        "s.replace('i', 'I') #특정 단어를 소문자에서 대문자로 변경"
      ],
      "metadata": {
        "colab": {
          "base_uri": "https://localhost:8080/",
          "height": 36
        },
        "id": "zXPXfmyY_YcL",
        "outputId": "5e904fb9-56a4-43fe-bf18-e3a08c4ce61a"
      },
      "execution_count": 44,
      "outputs": [
        {
          "output_type": "execute_result",
          "data": {
            "text/plain": [
              "'wenIv CEO lIcat'"
            ],
            "application/vnd.google.colaboratory.intrinsic+json": {
              "type": "string"
            }
          },
          "metadata": {},
          "execution_count": 44
        }
      ]
    },
    {
      "cell_type": "code",
      "source": [
        "s.split()"
      ],
      "metadata": {
        "colab": {
          "base_uri": "https://localhost:8080/"
        },
        "id": "LhHx7ROQ_o2Q",
        "outputId": "20a5a269-9afa-4660-ea31-39f272451428"
      },
      "execution_count": 45,
      "outputs": [
        {
          "output_type": "execute_result",
          "data": {
            "text/plain": [
              "['weniv', 'CEO', 'licat']"
            ]
          },
          "metadata": {},
          "execution_count": 45
        }
      ]
    },
    {
      "cell_type": "code",
      "source": [
        "s.index('i')"
      ],
      "metadata": {
        "colab": {
          "base_uri": "https://localhost:8080/"
        },
        "id": "Sq_mTe7C_-4d",
        "outputId": "be710737-86ab-4069-99ea-205ccb5af10b"
      },
      "execution_count": 47,
      "outputs": [
        {
          "output_type": "execute_result",
          "data": {
            "text/plain": [
              "3"
            ]
          },
          "metadata": {},
          "execution_count": 47
        }
      ]
    },
    {
      "cell_type": "code",
      "source": [
        "s.count(' ') #문자열이나 숫자를 셀 때 사용"
      ],
      "metadata": {
        "colab": {
          "base_uri": "https://localhost:8080/"
        },
        "id": "VeQIkDNVAfpF",
        "outputId": "d9d9ba7e-ef12-4cf5-fd9d-c4d642b806a7"
      },
      "execution_count": 49,
      "outputs": [
        {
          "output_type": "execute_result",
          "data": {
            "text/plain": [
              "2"
            ]
          },
          "metadata": {},
          "execution_count": 49
        }
      ]
    },
    {
      "cell_type": "code",
      "source": [
        "s = '123'\n",
        "s.isdigit() # 숫자 구분"
      ],
      "metadata": {
        "colab": {
          "base_uri": "https://localhost:8080/"
        },
        "id": "S-cmlMW1BJc0",
        "outputId": "e29ac80d-b001-4f40-b66d-65ba7e6c8597"
      },
      "execution_count": 53,
      "outputs": [
        {
          "output_type": "execute_result",
          "data": {
            "text/plain": [
              "True"
            ]
          },
          "metadata": {},
          "execution_count": 53
        }
      ]
    },
    {
      "cell_type": "code",
      "source": [
        "s = '안녕하세요'\n",
        "s.isalnum() # 특수문자 구분"
      ],
      "metadata": {
        "colab": {
          "base_uri": "https://localhost:8080/"
        },
        "id": "KpOyKqGgIrsw",
        "outputId": "18a6f1ea-3340-40e0-f5fe-e0086cd5456f"
      },
      "execution_count": 54,
      "outputs": [
        {
          "output_type": "execute_result",
          "data": {
            "text/plain": [
              "True"
            ]
          },
          "metadata": {},
          "execution_count": 54
        }
      ]
    },
    {
      "cell_type": "code",
      "source": [
        "s = 'licat'\n",
        "s.ljust(10, '-') # 문자열을 지정한 길이로 맞우고, 오른쪽을 '-'로 채우는 method"
      ],
      "metadata": {
        "colab": {
          "base_uri": "https://localhost:8080/",
          "height": 36
        },
        "id": "CHq9V1EKI1Sj",
        "outputId": "f1474876-9ebd-4a51-a657-ee64bc26a0de"
      },
      "execution_count": 56,
      "outputs": [
        {
          "output_type": "execute_result",
          "data": {
            "text/plain": [
              "'licat-----'"
            ],
            "application/vnd.google.colaboratory.intrinsic+json": {
              "type": "string"
            }
          },
          "metadata": {},
          "execution_count": 56
        }
      ]
    },
    {
      "cell_type": "code",
      "source": [
        "s.rjust(10, '-') # 문자열을 지정한 길이로 맞우고, 왼쪽을 '-'로 채우는 method"
      ],
      "metadata": {
        "colab": {
          "base_uri": "https://localhost:8080/",
          "height": 36
        },
        "id": "nklAj7sdJon-",
        "outputId": "43580ecb-0bcc-41a2-8126-a3b3d1d49c13"
      },
      "execution_count": 57,
      "outputs": [
        {
          "output_type": "execute_result",
          "data": {
            "text/plain": [
              "'-----licat'"
            ],
            "application/vnd.google.colaboratory.intrinsic+json": {
              "type": "string"
            }
          },
          "metadata": {},
          "execution_count": 57
        }
      ]
    },
    {
      "cell_type": "code",
      "source": [
        "# ex) 대표적인예\n",
        "s = '4589731-1'\n",
        "s.ljust(14,'*') # 주민번호 ex)"
      ],
      "metadata": {
        "colab": {
          "base_uri": "https://localhost:8080/",
          "height": 36
        },
        "id": "D7HpR4NTJ6Gt",
        "outputId": "ff203714-b1f1-4f37-93dd-31d6c8968e04"
      },
      "execution_count": 58,
      "outputs": [
        {
          "output_type": "execute_result",
          "data": {
            "text/plain": [
              "'4589731-1*****'"
            ],
            "application/vnd.google.colaboratory.intrinsic+json": {
              "type": "string"
            }
          },
          "metadata": {},
          "execution_count": 58
        }
      ]
    },
    {
      "cell_type": "code",
      "source": [
        "s = 'licat'\n",
        "s.center(14, '-') #문자열을 지정한 번호에 가운데로"
      ],
      "metadata": {
        "colab": {
          "base_uri": "https://localhost:8080/",
          "height": 36
        },
        "id": "VX9DtOtDKHSJ",
        "outputId": "3e6201d8-fe36-41a9-d1d1-788209f3ed61"
      },
      "execution_count": 60,
      "outputs": [
        {
          "output_type": "execute_result",
          "data": {
            "text/plain": [
              "'----licat-----'"
            ],
            "application/vnd.google.colaboratory.intrinsic+json": {
              "type": "string"
            }
          },
          "metadata": {},
          "execution_count": 60
        }
      ]
    },
    {
      "cell_type": "code",
      "source": [
        "# 1.14 zfill\n",
        "x = \"42\"\n",
        "result = x.zfill(5) #문자열에 숫자에 맞춰 0이 붙음\n",
        "print(result)"
      ],
      "metadata": {
        "colab": {
          "base_uri": "https://localhost:8080/"
        },
        "id": "pefjZkqWMbEj",
        "outputId": "7a2dcef8-00d4-4ebd-c599-91c0656110a3"
      },
      "execution_count": 61,
      "outputs": [
        {
          "output_type": "stream",
          "name": "stdout",
          "text": [
            "00042\n"
          ]
        }
      ]
    },
    {
      "cell_type": "code",
      "source": [
        "y = \"-42\"\n",
        "result = y.zfill(5) #문자열에 숫자에 맞춰 0이 붙음\n",
        "print(result)"
      ],
      "metadata": {
        "colab": {
          "base_uri": "https://localhost:8080/"
        },
        "id": "V1ZpDKaCNhFv",
        "outputId": "7e8f8c87-50e0-4e57-dfe2-2edfb08a3a0c"
      },
      "execution_count": 62,
      "outputs": [
        {
          "output_type": "stream",
          "name": "stdout",
          "text": [
            "-0042\n"
          ]
        }
      ]
    },
    {
      "cell_type": "code",
      "source": [
        "z = \"abc\"\n",
        "result = z.zfill(5) #문자열에 숫자에 맞춰 0이 붙음\n",
        "print(result)"
      ],
      "metadata": {
        "colab": {
          "base_uri": "https://localhost:8080/"
        },
        "id": "JCYpt6NGNvMZ",
        "outputId": "d92f4ee6-fa33-495d-c3a0-7e5e26c7d647"
      },
      "execution_count": 63,
      "outputs": [
        {
          "output_type": "stream",
          "name": "stdout",
          "text": [
            "00abc\n"
          ]
        }
      ]
    },
    {
      "cell_type": "code",
      "source": [
        "z = '''\n",
        "안녕하세요 기준하입니다\n",
        "파이썬이 참 좋아요\n",
        "여러분 잘 선택했어요!\n",
        "'''\n",
        "result = translate(5) #문자열에 숫자에 맞춰 0이 붙음\n",
        "print(result)"
      ],
      "metadata": {
        "colab": {
          "base_uri": "https://localhost:8080/",
          "height": 242
        },
        "id": "WwpU3Sx1Nyf7",
        "outputId": "dd34be18-d677-4ace-a7cc-cce5c541e11b"
      },
      "execution_count": 67,
      "outputs": [
        {
          "output_type": "error",
          "ename": "NameError",
          "evalue": "ignored",
          "traceback": [
            "\u001b[0;31m---------------------------------------------------------------------------\u001b[0m",
            "\u001b[0;31mNameError\u001b[0m                                 Traceback (most recent call last)",
            "\u001b[0;32m<ipython-input-67-5d8e0b5daacf>\u001b[0m in \u001b[0;36m<cell line: 6>\u001b[0;34m()\u001b[0m\n\u001b[1;32m      4\u001b[0m \u001b[0m여러분\u001b[0m \u001b[0m잘\u001b[0m \u001b[0m선택했어요\u001b[0m\u001b[0;31m!\u001b[0m\u001b[0;34m\u001b[0m\u001b[0;34m\u001b[0m\u001b[0m\n\u001b[1;32m      5\u001b[0m '''\n\u001b[0;32m----> 6\u001b[0;31m \u001b[0mresult\u001b[0m \u001b[0;34m=\u001b[0m \u001b[0mtranslate\u001b[0m\u001b[0;34m(\u001b[0m\u001b[0;36m5\u001b[0m\u001b[0;34m)\u001b[0m \u001b[0;31m#문자열에 숫자에 맞춰 0이 붙음\u001b[0m\u001b[0;34m\u001b[0m\u001b[0;34m\u001b[0m\u001b[0m\n\u001b[0m\u001b[1;32m      7\u001b[0m \u001b[0mprint\u001b[0m\u001b[0;34m(\u001b[0m\u001b[0mresult\u001b[0m\u001b[0;34m)\u001b[0m\u001b[0;34m\u001b[0m\u001b[0;34m\u001b[0m\u001b[0m\n",
            "\u001b[0;31mNameError\u001b[0m: name 'translate' is not defined"
          ]
        }
      ]
    },
    {
      "cell_type": "code",
      "source": [
        "print(\"hello\\n wolrd\") # 문자열 줄 바꿈이 일어남\n",
        "print(\"hello\\t wolrd\") # 문자열 사이에 탭 간격이 생김\n",
        "print(\"hello \\\"wolrd\\\"\") # 큰따옴표 내부에 문자열에 출력\n",
        "print(\"hello \\'wolrd\\'\") #작은 따옴표 내부에 문자열에 출력\n",
        "print(\"hello wolrd\\\\\") # 백슬래시를 출력"
      ],
      "metadata": {
        "colab": {
          "base_uri": "https://localhost:8080/"
        },
        "id": "FiaB4XmMSpg-",
        "outputId": "20c8cfa9-738b-4c7a-a388-25eb948bf21d"
      },
      "execution_count": 71,
      "outputs": [
        {
          "output_type": "stream",
          "name": "stdout",
          "text": [
            "hello\n",
            " wolrd\n",
            "hello\t wolrd\n",
            "hello \"wolrd\"\n",
            "hello 'wolrd'\n",
            "hello wolrd\\\n"
          ]
        }
      ]
    },
    {
      "cell_type": "code",
      "source": [],
      "metadata": {
        "id": "y6grVkc5TpIG"
      },
      "execution_count": null,
      "outputs": []
    }
  ]
}