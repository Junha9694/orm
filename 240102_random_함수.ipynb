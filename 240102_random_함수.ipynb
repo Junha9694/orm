{
  "nbformat": 4,
  "nbformat_minor": 0,
  "metadata": {
    "colab": {
      "provenance": [],
      "authorship_tag": "ABX9TyOXO0jfYDugFC1xW/+mntNB",
      "include_colab_link": true
    },
    "kernelspec": {
      "name": "python3",
      "display_name": "Python 3"
    },
    "language_info": {
      "name": "python"
    }
  },
  "cells": [
    {
      "cell_type": "markdown",
      "metadata": {
        "id": "view-in-github",
        "colab_type": "text"
      },
      "source": [
        "<a href=\"https://colab.research.google.com/github/Junha9694/orm/blob/main/240102_random_%ED%95%A8%EC%88%98.ipynb\" target=\"_parent\"><img src=\"https://colab.research.google.com/assets/colab-badge.svg\" alt=\"Open In Colab\"/></a>"
      ]
    },
    {
      "cell_type": "markdown",
      "source": [
        "rnadrange 함수\n"
      ],
      "metadata": {
        "id": "cV3JzSlK0_U4"
      }
    },
    {
      "cell_type": "code",
      "execution_count": 3,
      "metadata": {
        "colab": {
          "base_uri": "https://localhost:8080/"
        },
        "id": "Fe1UyK_h05U1",
        "outputId": "b5994fc0-6482-43b5-f9ac-e0284a003be2"
      },
      "outputs": [
        {
          "output_type": "stream",
          "name": "stdout",
          "text": [
            "7\n"
          ]
        }
      ],
      "source": [
        "# 1. 기본 사용법\n",
        "import random\n",
        "\n",
        "# 0~9까지의 임의의 숫자리르 선택하는 코드를 작성\n",
        "#파이쎤의 숫자 시작은 무조건 0부터\n",
        "# 10으로 입력하면 -1 즉, 9까지\n",
        "num = random.randrange(10)\n",
        "print(num)\n"
      ]
    },
    {
      "cell_type": "code",
      "source": [
        "# 1-2 시작값과 끝값을 지정\n",
        "num_2 = random.randrange(1, 10)\n",
        "print(num_2)"
      ],
      "metadata": {
        "colab": {
          "base_uri": "https://localhost:8080/"
        },
        "id": "tnwrB4DX1sQK",
        "outputId": "b825d7a2-7929-4085-f7b7-63b21192d09e"
      },
      "execution_count": 13,
      "outputs": [
        {
          "output_type": "stream",
          "name": "stdout",
          "text": [
            "3\n"
          ]
        }
      ]
    },
    {
      "cell_type": "code",
      "source": [
        "from re import L\n",
        "lotto_1 = random.randrange(1, 46)\n",
        "lotto_2 = random.randrange(1, 46)\n",
        "lotto_3 = random.randrange(1, 46)\n",
        "lotto_4 = random.randrange(1, 46)\n",
        "lotto_5 = random.randrange(1, 46)\n",
        "\n",
        "\n",
        "print(lotto_1, lotto_2, lotto_3, lotto_4, lotto_5)"
      ],
      "metadata": {
        "colab": {
          "base_uri": "https://localhost:8080/"
        },
        "id": "AJX0dkbl3IN4",
        "outputId": "67d99dc2-8cdc-4c0f-fb60-31d64ea0161a"
      },
      "execution_count": 22,
      "outputs": [
        {
          "output_type": "stream",
          "name": "stdout",
          "text": [
            "12 38 21 12 18\n"
          ]
        }
      ]
    },
    {
      "cell_type": "code",
      "source": [
        "# 1-2 시작값과 끝값을 지정\n",
        "num_3 = random.randrange(10, 101, 10)\n",
        "print(num_3)"
      ],
      "metadata": {
        "colab": {
          "base_uri": "https://localhost:8080/"
        },
        "id": "5I8r-WUO2NBS",
        "outputId": "ae8d24f8-d388-4251-fa70-ee8cd4c1f1f0"
      },
      "execution_count": 18,
      "outputs": [
        {
          "output_type": "stream",
          "name": "stdout",
          "text": [
            "100\n"
          ]
        }
      ]
    },
    {
      "cell_type": "markdown",
      "source": [
        "# 2. choice 함수\n"
      ],
      "metadata": {
        "id": "kEJZwr5O7RNt"
      }
    },
    {
      "cell_type": "code",
      "source": [
        "# 1. Choice 기본 사용법\n",
        "# choice = random.choice(sequence)\n",
        "# 리스트에서 무작위 과일 선택\n",
        "elements = ['사과', '바나나', '수박', '체리','배']"
      ],
      "metadata": {
        "id": "NRq1vY6W7UkT"
      },
      "execution_count": 26,
      "outputs": []
    },
    {
      "cell_type": "code",
      "source": [
        "print(elements)"
      ],
      "metadata": {
        "colab": {
          "base_uri": "https://localhost:8080/"
        },
        "id": "jFrndQby7vX5",
        "outputId": "7d1bf4a6-69a3-4041-c485-c8c9bdacae0f"
      },
      "execution_count": 27,
      "outputs": [
        {
          "output_type": "stream",
          "name": "stdout",
          "text": [
            "['사과', '바나나', '수박', '체리', '배']\n"
          ]
        }
      ]
    },
    {
      "cell_type": "code",
      "source": [
        "choice_elements = random.choice(elements)\n",
        "print(f'선택된 요소 : {choice_elements} 입니다')"
      ],
      "metadata": {
        "colab": {
          "base_uri": "https://localhost:8080/"
        },
        "id": "7Ylo3bMi8Cff",
        "outputId": "49c541ac-519f-4f52-d0ac-ad4ce79ed6fa"
      },
      "execution_count": 44,
      "outputs": [
        {
          "output_type": "stream",
          "name": "stdout",
          "text": [
            "선택된 요소 : 수박 입니다\n"
          ]
        }
      ]
    },
    {
      "cell_type": "code",
      "source": [
        "greeting = \"가나다라마바사\"\n",
        "choice_char = random.choice(greeting)\n",
        "print(f\"선택된 문자: {choice_char} 입니다.\")"
      ],
      "metadata": {
        "colab": {
          "base_uri": "https://localhost:8080/"
        },
        "id": "7EVAiy5_8eYp",
        "outputId": "5ec185a6-1003-42c3-82d1-2562a4270358"
      },
      "execution_count": 48,
      "outputs": [
        {
          "output_type": "stream",
          "name": "stdout",
          "text": [
            "선택된 문자: 사 입니다.\n"
          ]
        }
      ]
    },
    {
      "cell_type": "code",
      "source": [
        "# 이 코드는 Random 라이브러리를 사용한 예시입니다.\n",
        "import random  # 랜덤이 되도록 하는 장치\n",
        "\n",
        "\n",
        "random_number1 = random.randint(1, 10)  # 1~9 숫자 랜덤생성\n",
        "random_number2 = random.randint(1, 10)  # 1~9 숫자 랜덤생성\n",
        "\n",
        "\n",
        "sum_of_numbers = random_number1 + random_number2 # 랜덤1과 랜덤2 더한값\n",
        "\n",
        "\n",
        "print(f\"첫 번째 생성된 숫자: {random_number1}\")   #랜덤숫자1 표시\n",
        "print(f\"두 번째 생성된 숫자: {random_number2}\")   #랜덤숫자2 표시\n",
        "print(f\"두 숫자의 합: {sum_of_numbers}\")  #두 수의 합"
      ],
      "metadata": {
        "colab": {
          "base_uri": "https://localhost:8080/"
        },
        "id": "J11UZIiZ9AEC",
        "outputId": "4620083c-269b-41d5-ad98-3a786e9f01d0"
      },
      "execution_count": 49,
      "outputs": [
        {
          "output_type": "stream",
          "name": "stdout",
          "text": [
            "첫 번째 생성된 숫자: 2\n",
            "두 번째 생성된 숫자: 6\n",
            "두 숫자의 합: 8\n"
          ]
        }
      ]
    },
    {
      "cell_type": "code",
      "source": [
        "dice1 = random.randrange(1,7) #첫번째 주사위\n",
        "dice2 = random.randrange(1,7) #두번째 주사위\n",
        "\n",
        "total = dice1 + dice2 # 주 주사위 숫자합\n",
        "\n",
        "print(f\"주사위 결과 : {dice1} + {dice2} = {total}\") # 두 주사위 합 출력\n"
      ],
      "metadata": {
        "colab": {
          "base_uri": "https://localhost:8080/"
        },
        "id": "06ZR6vCH_ld5",
        "outputId": "f46cb4ab-0eae-4025-fe72-0f8ffdf4a54b"
      },
      "execution_count": 52,
      "outputs": [
        {
          "output_type": "stream",
          "name": "stdout",
          "text": [
            "주사위 결과 : 5 + 6 = 11\n"
          ]
        }
      ]
    },
    {
      "cell_type": "code",
      "source": [
        "import random\n",
        "\n",
        "throw1 = random.randrange(-1,2)\n",
        "throw2 = random.randrange(0,2)\n",
        "throw3 = random.randrange(0,2)\n",
        "throw4 = random.randrange(0,2)\n",
        "\n",
        "# 합산\n",
        "total = throw1 + throw2 + throw3 + throw4\n",
        "\n",
        "# 도 개 걸 윷 모 설정\n",
        "도 = 0\n",
        "개 = 1\n",
        "걸 = 2\n",
        "윷 = 3\n",
        "모 = 4\n",
        "백도 = -1\n",
        "\n",
        "# 윷 결과가 포함된 result 리스트 작성\n",
        "result = ['도','개','걸','윷','모','백도']\n",
        "\n",
        "# 결과 출력\n",
        "print(f\"나온 것은 ({result[total]}) 입니다\")"
      ],
      "metadata": {
        "colab": {
          "base_uri": "https://localhost:8080/"
        },
        "id": "3RtwxJzgCWUh",
        "outputId": "3c59aa1f-476f-43a0-f180-9650d20e6c0d"
      },
      "execution_count": 92,
      "outputs": [
        {
          "output_type": "stream",
          "name": "stdout",
          "text": [
            "나온 것은 (개) 입니다\n"
          ]
        }
      ]
    },
    {
      "cell_type": "code",
      "source": [],
      "metadata": {
        "id": "yr_tCRvBJuxO"
      },
      "execution_count": null,
      "outputs": []
    }
  ]
}