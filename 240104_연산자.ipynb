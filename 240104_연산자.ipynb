{
  "nbformat": 4,
  "nbformat_minor": 0,
  "metadata": {
    "colab": {
      "provenance": [],
      "authorship_tag": "ABX9TyOWBzhP/nJQU4D0/Uav1N5u",
      "include_colab_link": true
    },
    "kernelspec": {
      "name": "python3",
      "display_name": "Python 3"
    },
    "language_info": {
      "name": "python"
    }
  },
  "cells": [
    {
      "cell_type": "markdown",
      "metadata": {
        "id": "view-in-github",
        "colab_type": "text"
      },
      "source": [
        "<a href=\"https://colab.research.google.com/github/Junha9694/orm/blob/main/240104_%EC%97%B0%EC%82%B0%EC%9E%90.ipynb\" target=\"_parent\"><img src=\"https://colab.research.google.com/assets/colab-badge.svg\" alt=\"Open In Colab\"/></a>"
      ]
    },
    {
      "cell_type": "markdown",
      "source": [
        "# 1. 논리연산"
      ],
      "metadata": {
        "id": "lCSwZ4VZBdvg"
      }
    },
    {
      "cell_type": "code",
      "execution_count": null,
      "metadata": {
        "colab": {
          "base_uri": "https://localhost:8080/"
        },
        "id": "fyjgKnzNBRS7",
        "outputId": "50f78ef1-4ab0-45e2-cf5a-b0c6f0f89b1b"
      },
      "outputs": [
        {
          "output_type": "stream",
          "name": "stdout",
          "text": [
            "test1 함수호출!\n",
            "test2 함수 호출!\n",
            "1\n"
          ]
        }
      ],
      "source": [
        "def test1():\n",
        "  print(\"test1 함수호출!\")\n",
        "  return False\n",
        "\n",
        "def test2():\n",
        "  print(\"test2 함수 호출!\")\n",
        "  return True\n",
        "\n",
        "result = test1() + test2()\n",
        "print(result)"
      ]
    },
    {
      "cell_type": "code",
      "source": [
        "x = 5\n",
        "y = 2\n",
        "z = 10\n",
        "\n",
        "x1 = y * z # 20 = 2 * 10\n",
        "x2 = x + (y * z) # 25 = 5 + (2*10)\n",
        "x += y * z  # y * z 연산 후 x에 값을 더한 뒤에 할당\n",
        "\n",
        "print(x1)\n",
        "print(x2)\n",
        "print(x)"
      ],
      "metadata": {
        "colab": {
          "base_uri": "https://localhost:8080/"
        },
        "id": "QgCQLAtOBlwN",
        "outputId": "58dc991a-ee15-4b3e-cced-90470f59ed07"
      },
      "execution_count": null,
      "outputs": [
        {
          "output_type": "stream",
          "name": "stdout",
          "text": [
            "20\n",
            "25\n",
            "25\n"
          ]
        }
      ]
    },
    {
      "cell_type": "code",
      "source": [
        "x += y * z\n",
        "print(x)"
      ],
      "metadata": {
        "colab": {
          "base_uri": "https://localhost:8080/"
        },
        "id": "8kWTGVLSFAHM",
        "outputId": "4176af45-71bc-4130-b2f9-6731a373e4fd"
      },
      "execution_count": null,
      "outputs": [
        {
          "output_type": "stream",
          "name": "stdout",
          "text": [
            "45\n"
          ]
        }
      ]
    },
    {
      "cell_type": "code",
      "source": [
        "a = 2\n",
        "a **= 3\n",
        "print(a)"
      ],
      "metadata": {
        "colab": {
          "base_uri": "https://localhost:8080/"
        },
        "id": "nzuoIQu2Fa68",
        "outputId": "f046ebf4-6a28-4d9e-8018-5e9e54223f1d"
      },
      "execution_count": null,
      "outputs": [
        {
          "output_type": "stream",
          "name": "stdout",
          "text": [
            "8\n"
          ]
        }
      ]
    },
    {
      "cell_type": "code",
      "source": [
        "coffe_employee = \"Brand\"\n",
        "ornge_employee = \"Brand\"\n",
        "print(coffe_employee is ornge_employee)\n",
        "print(coffe_employee == ornge_employee)"
      ],
      "metadata": {
        "colab": {
          "base_uri": "https://localhost:8080/"
        },
        "id": "_NWTGWoRH9CA",
        "outputId": "abbc9038-1207-4e09-a560-2bfbe06a2a24"
      },
      "execution_count": null,
      "outputs": [
        {
          "output_type": "stream",
          "name": "stdout",
          "text": [
            "True\n",
            "True\n"
          ]
        }
      ]
    },
    {
      "cell_type": "code",
      "source": [
        " a = [1, 2, 3]\n",
        " b = [1, 2, 3]\n",
        " print(a is b)\n"
      ],
      "metadata": {
        "colab": {
          "base_uri": "https://localhost:8080/"
        },
        "id": "jVkDQcSPIN0n",
        "outputId": "60db66b5-af9a-447b-c508-8f77618b8b05"
      },
      "execution_count": null,
      "outputs": [
        {
          "output_type": "stream",
          "name": "stdout",
          "text": [
            "False\n"
          ]
        }
      ]
    },
    {
      "cell_type": "code",
      "source": [
        " a = 17\n",
        " b = 17.0"
      ],
      "metadata": {
        "id": "NiJ_jpD9KewV"
      },
      "execution_count": 39,
      "outputs": []
    },
    {
      "cell_type": "code",
      "source": [
        "print(id(a), id(b))"
      ],
      "metadata": {
        "colab": {
          "base_uri": "https://localhost:8080/"
        },
        "id": "8gVuc8b6UMfL",
        "outputId": "7aecd069-6e11-4ee4-c067-47c978bd68e1"
      },
      "execution_count": null,
      "outputs": [
        {
          "output_type": "stream",
          "name": "stdout",
          "text": [
            "133278127391472 133276860870192\n"
          ]
        }
      ]
    },
    {
      "cell_type": "code",
      "source": [
        "print(a == b)"
      ],
      "metadata": {
        "colab": {
          "base_uri": "https://localhost:8080/"
        },
        "id": "P5ijyjMbU4uz",
        "outputId": "f60b28f0-9728-405a-e7c8-09e35465c55b"
      },
      "execution_count": 40,
      "outputs": [
        {
          "output_type": "stream",
          "name": "stdout",
          "text": [
            "True\n"
          ]
        }
      ]
    },
    {
      "cell_type": "code",
      "source": [
        "result = 2 ** 3 * 3 + 4 / 2 - 5\n",
        "print(result)\n"
      ],
      "metadata": {
        "colab": {
          "base_uri": "https://localhost:8080/"
        },
        "id": "Ec0iNHA1U7Ms",
        "outputId": "1331942b-ff6d-45af-cec7-1a8b81244c81"
      },
      "execution_count": null,
      "outputs": [
        {
          "output_type": "stream",
          "name": "stdout",
          "text": [
            "21.0\n"
          ]
        }
      ]
    },
    {
      "cell_type": "code",
      "source": [
        "a = 100\n",
        "print((a > 100) and (a < 200)) #false 둘다 아니여서\n",
        "print((a > 100) or (a < 200)) # true  or( 둘중 하나)\n",
        "print((a >= 100) and (a <= 200)) #true and = 모두\n",
        "print((a >= 100) or (a <= 200)) #true 둘중 하나 이기때문 true"
      ],
      "metadata": {
        "id": "0Gq80fRgVDiY",
        "colab": {
          "base_uri": "https://localhost:8080/"
        },
        "outputId": "01ce27b6-43f0-42f6-d8ea-2ed1573ab3d6"
      },
      "execution_count": 41,
      "outputs": [
        {
          "output_type": "stream",
          "name": "stdout",
          "text": [
            "False\n",
            "True\n",
            "True\n",
            "True\n"
          ]
        }
      ]
    },
    {
      "cell_type": "code",
      "source": [
        "b = 25\n",
        "print((b / 2 == 0 ) and (b / 5 == 0)) # 한쪽이 거짓이라 false\n",
        "print((b / 2 == 0 ) or (b / 5 == 0)) # 양쪽이 거짓이라 false\n",
        "print((b / 5 ))\n",
        "c = 5\n",
        "d = b/5"
      ],
      "metadata": {
        "colab": {
          "base_uri": "https://localhost:8080/"
        },
        "id": "nncxwEOLXLrP",
        "outputId": "6fedcb3f-9515-4d42-9d03-b3c729beaf6e"
      },
      "execution_count": 55,
      "outputs": [
        {
          "output_type": "stream",
          "name": "stdout",
          "text": [
            "False\n",
            "False\n",
            "5.0\n"
          ]
        }
      ]
    },
    {
      "cell_type": "code",
      "source": [
        "0 == 0.0"
      ],
      "metadata": {
        "colab": {
          "base_uri": "https://localhost:8080/"
        },
        "id": "vOTTSvB0ZFur",
        "outputId": "4722f313-06e8-4dcd-c977-2c0c48ce05ed"
      },
      "execution_count": 51,
      "outputs": [
        {
          "output_type": "execute_result",
          "data": {
            "text/plain": [
              "True"
            ]
          },
          "metadata": {},
          "execution_count": 51
        }
      ]
    },
    {
      "cell_type": "code",
      "source": [
        "print(d)\n",
        "print(c)\n",
        "print(d == c)"
      ],
      "metadata": {
        "colab": {
          "base_uri": "https://localhost:8080/"
        },
        "id": "wWAQT-HUYsVE",
        "outputId": "b7cbbd54-f4f4-4908-a481-408f7df227c9"
      },
      "execution_count": 52,
      "outputs": [
        {
          "output_type": "stream",
          "name": "stdout",
          "text": [
            "5.0\n",
            "5\n",
            "True\n"
          ]
        }
      ]
    },
    {
      "cell_type": "code",
      "source": [
        "c = 1000\n",
        "c // 100 # 1개(/) 붙이면 소수점 2개(//) 붙이면 정수"
      ],
      "metadata": {
        "colab": {
          "base_uri": "https://localhost:8080/"
        },
        "id": "BoVzLotOW6mE",
        "outputId": "718915d5-f76b-4b03-e4a9-bbe8568d6c14"
      },
      "execution_count": 56,
      "outputs": [
        {
          "output_type": "execute_result",
          "data": {
            "text/plain": [
              "10"
            ]
          },
          "metadata": {},
          "execution_count": 56
        }
      ]
    },
    {
      "cell_type": "code",
      "source": [
        "# 입력금액을 5000원, 1000원, 500원, 1000원 교환프로그램\n",
        "#1. 금액을 입력받는다\n",
        "#2. 5000~100원까지 거스름돈\n",
        "money = int(input(\"거스름돈\"))\n",
        "# 5000원 지폐 갯수 개산\n",
        "num_5000 = money // 5000\n",
        "money -= (num_5000 * 5000)\n",
        "num_1000 = money // 1000\n",
        "money -= (num_1000 * 1000)\n",
        "num_500 = money // 500\n",
        "money -= (num_500 * 500)\n",
        "num_100 = money // 100\n",
        "money -= (num_100 * 100)\n",
        "num_10 = money // 10\n",
        "money -= (num_10 * 10)\n",
        "\n",
        "print(f\"거스름돈 5000원({num_5000})개 1000원 ({num_1000})개 500원({num_500})개 100원({num_100})개 10원({num_10})개 나왔습니다\")"
      ],
      "metadata": {
        "colab": {
          "base_uri": "https://localhost:8080/"
        },
        "id": "IYiUhfGHYJAM",
        "outputId": "e815503d-235f-49e0-ab1b-9b2859e65b8b"
      },
      "execution_count": 62,
      "outputs": [
        {
          "output_type": "stream",
          "name": "stdout",
          "text": [
            "거스름돈12670\n",
            "거스름돈 5000원(2)개 1000원 (2)개 500원(1)개 100원(1)개 10원(7)개 나왔습니다\n"
          ]
        }
      ]
    },
    {
      "cell_type": "code",
      "source": [
        "#제품 원가의 할인율 입력받기\n",
        "original_price = float(input(\"원가 가격:\"))\n",
        "discout_rate = float(input(\"할인가격:\"))"
      ],
      "metadata": {
        "colab": {
          "base_uri": "https://localhost:8080/"
        },
        "id": "Pa5blHyhceDM",
        "outputId": "305423e9-d6c8-4008-e27a-801a633e3e19"
      },
      "execution_count": 107,
      "outputs": [
        {
          "name": "stdout",
          "output_type": "stream",
          "text": [
            "원가 가격:3504500\n",
            "할인가격:45696\n"
          ]
        }
      ]
    },
    {
      "cell_type": "code",
      "source": [
        "#할인된 가격 계산\n",
        "\n",
        "### discounted_price = (original_price - (original_price - discout_rate / 100))\n",
        "### discounted_rate = (original_price / discounted_price)\n",
        "### print(discounted_price)\n",
        "discounted_price = ((original_price/100) )\n",
        "discounted_rate = (discout_rate / discounted_price)\n",
        "print(f\"{discounted_rate}%\")"
      ],
      "metadata": {
        "colab": {
          "base_uri": "https://localhost:8080/"
        },
        "id": "w8DyT4kDfaHg",
        "outputId": "263a81e7-4b68-4750-8c1b-b4dad0047300"
      },
      "execution_count": 108,
      "outputs": [
        {
          "output_type": "stream",
          "name": "stdout",
          "text": [
            "1.3039235268939935%\n"
          ]
        }
      ]
    },
    {
      "cell_type": "code",
      "source": [
        "name = (input(\"이름을 입력하세요:\"))\n",
        "age = float(input(\"나이를 입력하세요:\"))"
      ],
      "metadata": {
        "colab": {
          "base_uri": "https://localhost:8080/"
        },
        "id": "UBoGrA1_hKlb",
        "outputId": "67d6fdee-f8f3-49b0-d6e8-a19830dc7a33"
      },
      "execution_count": 120,
      "outputs": [
        {
          "name": "stdout",
          "output_type": "stream",
          "text": [
            "이름을 입력하세요:기준하\n",
            "나이를 입력하세요:32\n"
          ]
        }
      ]
    },
    {
      "cell_type": "code",
      "source": [
        "year_age = age + 1\n",
        "len_name = len(name)\n",
        "adult = year_age >= 18\n",
        "\n",
        "print(f\"{name}님의 이름길이는 {len_name}자, 내년 성인 여부는 {adult}입니다.\")"
      ],
      "metadata": {
        "colab": {
          "base_uri": "https://localhost:8080/"
        },
        "id": "wVgfo9KtlDBz",
        "outputId": "e8bd627c-3863-40f8-ec3e-cd0670eb94c5"
      },
      "execution_count": 122,
      "outputs": [
        {
          "output_type": "stream",
          "name": "stdout",
          "text": [
            "기준하님의 이름길이는 3자, 내년 성인 여부는 True입니다.\n"
          ]
        }
      ]
    },
    {
      "cell_type": "code",
      "source": [],
      "metadata": {
        "id": "55-CMCVJlIl0"
      },
      "execution_count": null,
      "outputs": []
    }
  ]
}