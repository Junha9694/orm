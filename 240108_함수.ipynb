{
  "nbformat": 4,
  "nbformat_minor": 0,
  "metadata": {
    "colab": {
      "provenance": [],
      "authorship_tag": "ABX9TyNcsLBXt7a8wmyKauFUg5Ns",
      "include_colab_link": true
    },
    "kernelspec": {
      "name": "python3",
      "display_name": "Python 3"
    },
    "language_info": {
      "name": "python"
    }
  },
  "cells": [
    {
      "cell_type": "markdown",
      "metadata": {
        "id": "view-in-github",
        "colab_type": "text"
      },
      "source": [
        "<a href=\"https://colab.research.google.com/github/Junha9694/orm/blob/main/240108_%ED%95%A8%EC%88%98.ipynb\" target=\"_parent\"><img src=\"https://colab.research.google.com/assets/colab-badge.svg\" alt=\"Open In Colab\"/></a>"
      ]
    },
    {
      "cell_type": "markdown",
      "source": [
        "# 함수\n"
      ],
      "metadata": {
        "id": "tyu9LuRIqxxs"
      }
    },
    {
      "cell_type": "code",
      "execution_count": null,
      "metadata": {
        "id": "3XrrYJrTqxCD"
      },
      "outputs": [],
      "source": [
        "# 1. 함수 만들어 보기\n",
        "def junha(): # def <- 이건 함수 (junha) 함수의 이름 + () -> \":\" 넣어야 함수의 시작\n",
        "    print(1)\n",
        "    print(2)\n",
        "    print(3)\n",
        ""
      ]
    },
    {
      "cell_type": "code",
      "source": [
        "# 2. 들여쓰기\n",
        "\n",
        "def my_function():\n",
        "    print('1') # 4칸을 띄우는 것 -> 함수의 본문을 적는 것\n",
        "    print('2')\n",
        "print('3') # 4칸 들여쓰기 함수 작용전 작동되여 3 1 2 로 나옴\n",
        "\n",
        "# 함수의 실행\n",
        "my_function() #실행을 할때는 def와 : 은 필요없다"
      ],
      "metadata": {
        "colab": {
          "base_uri": "https://localhost:8080/"
        },
        "id": "XgjKHoDltPm0",
        "outputId": "bc17ec27-3d72-47da-e266-fbbd5b3e00d9"
      },
      "execution_count": 1,
      "outputs": [
        {
          "output_type": "stream",
          "name": "stdout",
          "text": [
            "1\n",
            "2\n",
            "3\n"
          ]
        }
      ]
    },
    {
      "cell_type": "code",
      "source": [
        "def function(x,y): # 함수 정의\n",
        "    z = x + y   # 연산\n",
        "    return z    # 리턴으로 결과물 뱉어주기\n",
        "print(\"function(10,9)=\",function(10,9)) # 뱉은 결과물"
      ],
      "metadata": {
        "colab": {
          "base_uri": "https://localhost:8080/"
        },
        "id": "Qbi2gWlatqOB",
        "outputId": "bb0da85f-95b1-472b-948e-aceda8999fdd"
      },
      "execution_count": 2,
      "outputs": [
        {
          "output_type": "stream",
          "name": "stdout",
          "text": [
            "function(10,9)= 19\n"
          ]
        }
      ]
    },
    {
      "cell_type": "code",
      "source": [
        "#기능과 연산\n",
        "def function(x,y): # 함수 정의 #def : 함수선언 # function함수 이름\n",
        "    z = x + y   # 연산\n",
        "    return z    # 리턴으로 결과물 뱉어주기\n",
        "print(\"function(10,9)=\",function(10,9)) # 뱉은 결과물\n",
        "\n",
        "def function_name(x, y):\n",
        "    pass # 에러가 없도록 하는 임시값\n",
        "\n",
        "def function_name(x, y):\n",
        "    return x + y  #변수값 지정안하면 None반환"
      ],
      "metadata": {
        "id": "A-z23eZZ21VH"
      },
      "execution_count": 7,
      "outputs": []
    },
    {
      "cell_type": "code",
      "source": [
        "def function(x,y): # 함수 정의\n",
        "    z = x + y   # 연산\n",
        "    return z    # 리턴으로 결과물 뱉어주기\n",
        "function(10,9) #아규먼트 # print()문을 사용하지 않았을 때"
      ],
      "metadata": {
        "colab": {
          "base_uri": "https://localhost:8080/"
        },
        "id": "-beyYzr65MVv",
        "outputId": "cc86c2dd-e706-4ac7-83d4-7331096de47b"
      },
      "execution_count": 8,
      "outputs": [
        {
          "output_type": "execute_result",
          "data": {
            "text/plain": [
              "19"
            ]
          },
          "metadata": {},
          "execution_count": 8
        }
      ]
    },
    {
      "cell_type": "code",
      "source": [
        "def f():\n",
        "    print(1/0) #오류가 나지만 함수에선 오류가 나지 않음 출력이 되지않아\n",
        "\n",
        "print('hello')"
      ],
      "metadata": {
        "colab": {
          "base_uri": "https://localhost:8080/"
        },
        "id": "IBpOR7Yf7dnR",
        "outputId": "ef30e674-c89d-436a-d167-3b8b24a67567"
      },
      "execution_count": 9,
      "outputs": [
        {
          "output_type": "stream",
          "name": "stdout",
          "text": [
            "hello\n"
          ]
        }
      ]
    },
    {
      "cell_type": "code",
      "source": [
        "# 2.1 입력 매개변수가 없고 반환값도 없는 함수\n",
        "def simple_function():\n",
        "    print('hello world')\n",
        "\n",
        "# 함수 호축\n",
        "print(simple_function()) # 함수는 return 값을 찾음"
      ],
      "metadata": {
        "colab": {
          "base_uri": "https://localhost:8080/"
        },
        "id": "E9pSbtuz8aXw",
        "outputId": "c0340398-1de1-4b70-f189-53f74bc3334a"
      },
      "execution_count": 10,
      "outputs": [
        {
          "output_type": "stream",
          "name": "stdout",
          "text": [
            "hello world\n",
            "None\n"
          ]
        }
      ]
    },
    {
      "cell_type": "code",
      "source": [
        "# 2.2 파라미터가 없고 반환값은 있는 함수\n",
        "def give_me_five():\n",
        "    return 5\n",
        "\n",
        "result = give_me_five()\n",
        "print(result) #retrun으로 5을 받았기 때문에 5가 나온다"
      ],
      "metadata": {
        "colab": {
          "base_uri": "https://localhost:8080/"
        },
        "id": "Q1MOomgX84G7",
        "outputId": "023f2357-dc64-4899-acbe-a3707b93e1a4"
      },
      "execution_count": 11,
      "outputs": [
        {
          "output_type": "stream",
          "name": "stdout",
          "text": [
            "5\n"
          ]
        }
      ]
    },
    {
      "cell_type": "code",
      "source": [
        "# 2.3 입력 매개변수가 있고, 반환 값이 없는 함수\n",
        "def greeting(name):\n",
        "    print(f'hello, {name}!')\n",
        "\n",
        "#함수 호출\n",
        "greeting('Licat') #출력 hello, Licat!"
      ],
      "metadata": {
        "colab": {
          "base_uri": "https://localhost:8080/"
        },
        "id": "kM3sc131-AFg",
        "outputId": "728b8c8a-d8c2-442f-8a8c-053cd814a8e2"
      },
      "execution_count": 13,
      "outputs": [
        {
          "output_type": "stream",
          "name": "stdout",
          "text": [
            "hello, Licat!\n"
          ]
        }
      ]
    },
    {
      "cell_type": "code",
      "source": [
        "# 2.4 입력 매개변수가 있고, 반환 값이 있는 함수\n",
        "def add_numbers(x,y):\n",
        "    sum = x + y\n",
        "    return sum\n",
        "\n",
        "# 함수 호출\n",
        "result = add_numbers(5, 3)\n",
        "print(result) #출력 8"
      ],
      "metadata": {
        "colab": {
          "base_uri": "https://localhost:8080/"
        },
        "id": "wchUyKV_Cb6x",
        "outputId": "0bc45d61-f57f-4ebb-a2c2-af8d87cb6f6e"
      },
      "execution_count": 14,
      "outputs": [
        {
          "output_type": "stream",
          "name": "stdout",
          "text": [
            "8\n"
          ]
        }
      ]
    },
    {
      "cell_type": "code",
      "source": [
        "print(print('hello'))"
      ],
      "metadata": {
        "colab": {
          "base_uri": "https://localhost:8080/"
        },
        "id": "F5OLxij6Hcol",
        "outputId": "344d0ddd-3cd7-41d0-8586-f968d6732f27"
      },
      "execution_count": 15,
      "outputs": [
        {
          "output_type": "stream",
          "name": "stdout",
          "text": [
            "hello\n",
            "None\n"
          ]
        }
      ]
    },
    {
      "cell_type": "code",
      "source": [
        "# 1.3 파라미터의 기본 사용\n",
        "def f(a, b, c):\n",
        "    print(a, b, c)\n",
        "\n",
        "f(100, 200, 300) # 작동됨\n",
        "#f(300, 200, a = 100) # 작동 안됨\n",
        "f(a = 100, b = 200, c = 300) # 작동됨\n",
        "f(c = 300, a = 100, b = 200) # 작동됨"
      ],
      "metadata": {
        "colab": {
          "base_uri": "https://localhost:8080/"
        },
        "id": "fnJDfWjNHgVn",
        "outputId": "41ef4d56-f68b-4077-a78d-dd6c3c25a9b4"
      },
      "execution_count": 17,
      "outputs": [
        {
          "output_type": "stream",
          "name": "stdout",
          "text": [
            "100 200 300\n",
            "100 200 300\n",
            "100 200 300\n"
          ]
        }
      ]
    },
    {
      "cell_type": "code",
      "source": [
        "# 1.3.2 기본값을 가진 파라미터 위에하고 기본값 유무 차이\n",
        "# 잘못된 예시\n",
        "#def f(a = 10, b = 20, c): # 잘못된예!\n",
        "#    print(a, b, c) # 에러뜸\n",
        "\n",
        "#올바른 예\n",
        "def f(a = 10, b = 20, c= 30):\n",
        "    print(a, b, c)\n",
        "\n",
        "f() # 작동됨\n",
        "f(100, 10) # a,b가 바뀜\n",
        "f(a = 100, b = 200, c = 300) # 출력 100, 200, 300\n",
        "f(c = 300, a = 100, b = 200) # 출력 100, 200, 300"
      ],
      "metadata": {
        "colab": {
          "base_uri": "https://localhost:8080/"
        },
        "id": "1FVh7YpBHyt7",
        "outputId": "36ad2831-0ca4-4d8f-e950-bec6d4020eb8"
      },
      "execution_count": 20,
      "outputs": [
        {
          "output_type": "stream",
          "name": "stdout",
          "text": [
            "10 20 30\n",
            "100 10 30\n",
            "100 200 300\n",
            "100 200 300\n"
          ]
        }
      ]
    },
    {
      "cell_type": "code",
      "source": [
        "# 1.4.1 컨밴션 자료형을 아규먼트로 넣었을때\n",
        "def add_element(my_list):\n",
        "    my_list.append(1)\n",
        "    print(id(my_list))\n",
        "\n",
        "a = [2, 3, 4]\n",
        "add_element(a)\n",
        "print(id(a))\n",
        "print(a) # 출력 [2, 3, 4, 1]"
      ],
      "metadata": {
        "colab": {
          "base_uri": "https://localhost:8080/"
        },
        "id": "40aiiZEGKekj",
        "outputId": "a235b779-fa64-449b-d645-b76d424e5cb3"
      },
      "execution_count": 29,
      "outputs": [
        {
          "output_type": "stream",
          "name": "stdout",
          "text": [
            "135776156255232\n",
            "135776156255232\n",
            "[2, 3, 4, 1]\n"
          ]
        }
      ]
    },
    {
      "cell_type": "code",
      "source": [
        "# 1.4.1 컨밴션 자료형을 아규먼트로 넣었을때\n",
        "def add_element(my_list):\n",
        "    my_list = 10\n",
        "    print(id(my_list))\n",
        "\n",
        "a = [2, 3, 4]\n",
        "add_element(a)\n",
        "print(id(a))\n",
        "print(a) # 출력 [2, 3, 4, 1]"
      ],
      "metadata": {
        "colab": {
          "base_uri": "https://localhost:8080/"
        },
        "id": "Vps-ZgLrK6FB",
        "outputId": "87bd3b0e-294a-43b0-c16f-366014830cf9"
      },
      "execution_count": 31,
      "outputs": [
        {
          "output_type": "stream",
          "name": "stdout",
          "text": [
            "135777425654288\n",
            "135776156137536\n",
            "[2, 3, 4]\n"
          ]
        }
      ]
    },
    {
      "cell_type": "code",
      "source": [],
      "metadata": {
        "id": "IryNeVF7L6a9"
      },
      "execution_count": null,
      "outputs": []
    }
  ]
}