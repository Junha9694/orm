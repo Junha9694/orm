{
  "nbformat": 4,
  "nbformat_minor": 0,
  "metadata": {
    "colab": {
      "provenance": [],
      "authorship_tag": "ABX9TyM8wuPPJG9ali+aAXMsKGHG",
      "include_colab_link": true
    },
    "kernelspec": {
      "name": "python3",
      "display_name": "Python 3"
    },
    "language_info": {
      "name": "python"
    }
  },
  "cells": [
    {
      "cell_type": "markdown",
      "metadata": {
        "id": "view-in-github",
        "colab_type": "text"
      },
      "source": [
        "<a href=\"https://colab.research.google.com/github/Junha9694/orm/blob/main/240110while%EB%AC%B8.ipynb\" target=\"_parent\"><img src=\"https://colab.research.google.com/assets/colab-badge.svg\" alt=\"Open In Colab\"/></a>"
      ]
    },
    {
      "cell_type": "code",
      "execution_count": 4,
      "metadata": {
        "colab": {
          "base_uri": "https://localhost:8080/"
        },
        "id": "aO2ogpgCr84y",
        "outputId": "5541a077-7d9e-4d5b-f378-7ac2abe5e5b2"
      },
      "outputs": [
        {
          "output_type": "stream",
          "name": "stdout",
          "text": [
            ">pwd\n",
            "/content\n",
            ">exit\n",
            "안녕히가세요.\n"
          ]
        }
      ],
      "source": [
        "import os\n",
        "\n",
        "while True:\n",
        "    userinput = input('>')\n",
        "    if userinput == 'pwd':\n",
        "        # print('현재 위치 출력')\n",
        "        # print('||'.join(_file_.split('||')[:-1])\n",
        "        print(os.getcwd())\n",
        "    elif userinput == 'dir' or userinput == 'ls':\n",
        "        # print('현재 폴더에 폴더와 파일명 출력')\n",
        "        print(os.listdir(os.getcwd()))\n",
        "    elif userinput == 'exit':\n",
        "        print('안녕히가세요.')\n",
        "        break"
      ]
    },
    {
      "cell_type": "markdown",
      "source": [
        "#break / continue"
      ],
      "metadata": {
        "id": "1e2RrMroygb9"
      }
    },
    {
      "cell_type": "code",
      "source": [
        "for i in range(10):\n",
        "    print(i)"
      ],
      "metadata": {
        "colab": {
          "base_uri": "https://localhost:8080/"
        },
        "id": "t1ZewumdygQ4",
        "outputId": "2411e921-ecf0-43a1-f845-65cacc322550"
      },
      "execution_count": 10,
      "outputs": [
        {
          "output_type": "stream",
          "name": "stdout",
          "text": [
            "0\n",
            "1\n",
            "2\n",
            "3\n",
            "4\n",
            "5\n",
            "6\n",
            "7\n",
            "8\n",
            "9\n"
          ]
        }
      ]
    },
    {
      "cell_type": "code",
      "source": [
        "for i in range(10):\n",
        "    if i == 5:#만약에 i가 5면 정지시켜라! -> 0부터 5까지만 출력하고 나머지는 출력하지 않음\n",
        "       break # break도 코드블록 4칸 띄워서!\n",
        "\n",
        "print(i)\n",
        "#이 코드는 0부터 4까지 출력하고, i가 반복되었을떄 반복문을 종료"
      ],
      "metadata": {
        "colab": {
          "base_uri": "https://localhost:8080/"
        },
        "id": "DTkjgdeBvcYi",
        "outputId": "fe8a8e72-d8a7-4759-9f24-e445d4dc80b0"
      },
      "execution_count": 7,
      "outputs": [
        {
          "output_type": "stream",
          "name": "stdout",
          "text": [
            "5\n"
          ]
        }
      ]
    },
    {
      "cell_type": "markdown",
      "source": [
        "* Countine = 반복문의 나머지 부분을 건너뛰고, 반복문을 다음 반복으로 즉시이동"
      ],
      "metadata": {
        "id": "--s2wQfpzqPp"
      }
    },
    {
      "cell_type": "code",
      "source": [
        "for i in range(10): # 0~9 까지\n",
        "    if i % 2 == 0: # 짝수인 경우에는 하단 코드블럭 실행!\n",
        "        continue # 짝수인 경우 실행한 구문 continue -> 짝수일때 -> 다시 반복문 다음순서로 이동\n",
        "    print(i) # for문안에 if 실행 된 후에 차례대로 print(i)"
      ],
      "metadata": {
        "colab": {
          "base_uri": "https://localhost:8080/"
        },
        "id": "gJneRj1KzVbK",
        "outputId": "1f03734c-f82f-400f-bbc8-d4e144332d95"
      },
      "execution_count": 12,
      "outputs": [
        {
          "output_type": "stream",
          "name": "stdout",
          "text": [
            "1\n",
            "3\n",
            "5\n",
            "7\n",
            "9\n"
          ]
        }
      ]
    },
    {
      "cell_type": "code",
      "source": [
        "for i in range(10):\n",
        "    if i % 2 == 0: # 짝수인 경우에는 하단 코드블럭 실행!\n",
        "        print(i) # 짝수인 경우에만 출력!\n",
        "    print(i)"
      ],
      "metadata": {
        "colab": {
          "base_uri": "https://localhost:8080/"
        },
        "id": "XaSB0V4hz9aj",
        "outputId": "a44ee25a-2fe1-4fcf-9194-cbf3a5c266dc"
      },
      "execution_count": 19,
      "outputs": [
        {
          "output_type": "stream",
          "name": "stdout",
          "text": [
            "0\n",
            "0\n",
            "1\n",
            "2\n",
            "2\n",
            "3\n",
            "4\n",
            "4\n",
            "5\n",
            "6\n",
            "6\n",
            "7\n",
            "8\n",
            "8\n",
            "9\n"
          ]
        }
      ]
    },
    {
      "cell_type": "code",
      "source": [
        "#중첩 while 문\n",
        "\n",
        "#무한 반복\n",
        "# while i < 10 :\n",
        "#    while j < 10:\n",
        "#        print(f'{1} X {j} = {i * j}')\n",
        "i = 2\n",
        "j = 0\n",
        "while i < 10 :\n",
        "    while j < 10:\n",
        "        print(f'{i} X {j} = {i * j}')\n",
        "        j += 1\n",
        "    i += 1\n",
        "\n",
        "#중첩 for문\n",
        "#for i in range(2, 10):  # 2부터 9까지 반복 (10은 포함되지 않음)\n",
        "#    for j in range(1, 10):  # 1부터 9까지 반복 (10은 포함되지 않음)\n",
        "#        print(f'{i} X {j} = {i * j}')"
      ],
      "metadata": {
        "colab": {
          "base_uri": "https://localhost:8080/"
        },
        "id": "U5009hh60DUc",
        "outputId": "c7f49821-486f-4684-a1eb-22f869c447e6"
      },
      "execution_count": 26,
      "outputs": [
        {
          "output_type": "stream",
          "name": "stdout",
          "text": [
            "2 X 0 = 0\n",
            "2 X 1 = 2\n",
            "2 X 2 = 4\n",
            "2 X 3 = 6\n",
            "2 X 4 = 8\n",
            "2 X 5 = 10\n",
            "2 X 6 = 12\n",
            "2 X 7 = 14\n",
            "2 X 8 = 16\n",
            "2 X 9 = 18\n"
          ]
        }
      ]
    },
    {
      "cell_type": "code",
      "source": [
        "switch = 0\n",
        "for i in range(5):\n",
        "    if switch == 1:\n",
        "        break\n",
        "    for j in range(5):\n",
        "        if j == 3:\n",
        "            switch = 1\n",
        "            break\n",
        "        print(f'{i}, {j}')"
      ],
      "metadata": {
        "colab": {
          "base_uri": "https://localhost:8080/"
        },
        "id": "qwE_5v4HAXx8",
        "outputId": "e16c9729-d2b4-49df-f973-4c4204c057bd"
      },
      "execution_count": 28,
      "outputs": [
        {
          "output_type": "stream",
          "name": "stdout",
          "text": [
            "0, 0\n",
            "0, 1\n",
            "0, 2\n"
          ]
        }
      ]
    },
    {
      "cell_type": "code",
      "source": [
        "# https://peps.python.org/pep-3136/\n",
        "\n",
        "try:\n",
        "    for i in range(2, 10):\n",
        "        for j in range(1, 10):\n",
        "            if j == 3:\n",
        "                raise StopIteration\n",
        "            print(f'{i} X {j} = {i*j}')\n",
        "except StopIteration:\n",
        "    print(\"Done\")"
      ],
      "metadata": {
        "colab": {
          "base_uri": "https://localhost:8080/"
        },
        "id": "0UKRlJ74A-9Q",
        "outputId": "47bd0335-f16b-4adb-8a5b-7a2da3be58f7"
      },
      "execution_count": 29,
      "outputs": [
        {
          "output_type": "stream",
          "name": "stdout",
          "text": [
            "2 X 1 = 2\n",
            "2 X 2 = 4\n",
            "Done\n"
          ]
        }
      ]
    },
    {
      "cell_type": "code",
      "source": [],
      "metadata": {
        "id": "Dq2X-AsFBpiO"
      },
      "execution_count": null,
      "outputs": []
    }
  ]
}