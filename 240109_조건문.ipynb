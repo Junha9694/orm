{
  "nbformat": 4,
  "nbformat_minor": 0,
  "metadata": {
    "colab": {
      "provenance": [],
      "authorship_tag": "ABX9TyN+Th6Rz8PL2LYDKWlmR0bl",
      "include_colab_link": true
    },
    "kernelspec": {
      "name": "python3",
      "display_name": "Python 3"
    },
    "language_info": {
      "name": "python"
    }
  },
  "cells": [
    {
      "cell_type": "markdown",
      "metadata": {
        "id": "view-in-github",
        "colab_type": "text"
      },
      "source": [
        "<a href=\"https://colab.research.google.com/github/Junha9694/orm/blob/main/240109_%EC%A1%B0%EA%B1%B4%EB%AC%B8.ipynb\" target=\"_parent\"><img src=\"https://colab.research.google.com/assets/colab-badge.svg\" alt=\"Open In Colab\"/></a>"
      ]
    },
    {
      "cell_type": "markdown",
      "source": [
        "# 1. 조건문"
      ],
      "metadata": {
        "id": "6H5o24x_pPx7"
      }
    },
    {
      "cell_type": "code",
      "execution_count": 1,
      "metadata": {
        "colab": {
          "base_uri": "https://localhost:8080/"
        },
        "id": "JZOCnamtpM6s",
        "outputId": "0c079f4f-3e52-481a-9c54-28e7a4e8edd8"
      },
      "outputs": [
        {
          "output_type": "stream",
          "name": "stdout",
          "text": [
            "True\n"
          ]
        }
      ],
      "source": [
        "# 1.1 if문의 기본 구조\n",
        "# if 다음에 조건이 참인 경우에만 코드 블록이 실행된다.\n",
        "\n",
        "# x가 1일때\n",
        "x = 2 # 비교할 대상\n",
        "\n",
        "if x > 1:\n",
        "    print('True')"
      ]
    },
    {
      "cell_type": "code",
      "source": [
        "x = 1 # 비교할 대상\n",
        "\n",
        "if x > 1:\n",
        "    print('True')\n",
        ""
      ],
      "metadata": {
        "id": "AISDCTvKpfE6"
      },
      "execution_count": 2,
      "outputs": []
    },
    {
      "cell_type": "code",
      "source": [
        "# 결국 x = 2일때 if x > 1은 => True\n",
        "if True:\n",
        "    print('True') # 출력: True"
      ],
      "metadata": {
        "colab": {
          "base_uri": "https://localhost:8080/"
        },
        "id": "y2rLCQUZpmSz",
        "outputId": "a70f0ed6-6175-4b11-cdf5-4c342400ff15"
      },
      "execution_count": 3,
      "outputs": [
        {
          "output_type": "stream",
          "name": "stdout",
          "text": [
            "True\n"
          ]
        }
      ]
    },
    {
      "cell_type": "code",
      "source": [
        "# 결국 x = 2일때 if x > 1은 => True\n",
        "if 1:\n",
        "    print('True') # 출력: True"
      ],
      "metadata": {
        "colab": {
          "base_uri": "https://localhost:8080/"
        },
        "id": "21FMroS7rrBK",
        "outputId": "869cbf14-a83d-4291-9788-dc29bfa842be"
      },
      "execution_count": 4,
      "outputs": [
        {
          "output_type": "stream",
          "name": "stdout",
          "text": [
            "True\n"
          ]
        }
      ]
    },
    {
      "cell_type": "code",
      "source": [
        "# 결국 x = 2일때 if x > 1은 => True\n",
        "if \" \":\n",
        "    print('True') # 출력: True"
      ],
      "metadata": {
        "colab": {
          "base_uri": "https://localhost:8080/"
        },
        "id": "eb7kuNJDrs6U",
        "outputId": "ab6e2a92-3ec9-4f7d-afc4-61461cb9924b"
      },
      "execution_count": 5,
      "outputs": [
        {
          "output_type": "stream",
          "name": "stdout",
          "text": [
            "True\n"
          ]
        }
      ]
    },
    {
      "cell_type": "code",
      "source": [
        "# if문 안에 있는 코드블럭과 바깥에 있는 코드블럭\n",
        "\n",
        "if 0: # 정수를 바꿔서도 실습해보세요\n",
        "    print('hello') # 1번 출력\n",
        "\n",
        "print('end') # 2번 출력"
      ],
      "metadata": {
        "colab": {
          "base_uri": "https://localhost:8080/"
        },
        "id": "VZ2V8b1Mru0A",
        "outputId": "27f20eb1-e210-47ef-e69b-01f144abd60c"
      },
      "execution_count": 6,
      "outputs": [
        {
          "output_type": "stream",
          "name": "stdout",
          "text": [
            "end\n"
          ]
        }
      ]
    },
    {
      "cell_type": "code",
      "source": [
        "#단락 평가\n",
        "\n",
        "# 성능에 영향을 끼칩니다!\n",
        "\n",
        "# f()함수 아규먼트 x 파라미터 x\n",
        "def f():\n",
        "    return True #True가 무조건 반환 되는 함수\n",
        "\n",
        "# f()함수 아규먼트 x 파라미터 x\n",
        "def ff():\n",
        "    x = 100 / 0 # error\n",
        "    return 'hello' # 실행되지 않았으면 하는 함수\n",
        "\n",
        "if f() or ff():\n",
        "    print('hello') # 출력 : hello"
      ],
      "metadata": {
        "colab": {
          "base_uri": "https://localhost:8080/"
        },
        "id": "XJvo_EhDrv6S",
        "outputId": "e804e02d-7f45-4f6a-cb23-05db18f998b3"
      },
      "execution_count": 7,
      "outputs": [
        {
          "output_type": "stream",
          "name": "stdout",
          "text": [
            "hello\n"
          ]
        }
      ]
    },
    {
      "cell_type": "code",
      "source": [
        "# 삼항 연산자\n",
        "\n",
        "#if x > y:\n",
        "\n",
        "x = 5\n",
        "y = 10\n",
        "\n",
        "#맞았을때 조건 / if / 조건 / else / 틀렸을때 조건\n",
        "result = 'x가 더 큽니다' if x > y else 'y와 같거나 y가 더 큽니다'\n",
        "print(result)"
      ],
      "metadata": {
        "colab": {
          "base_uri": "https://localhost:8080/"
        },
        "id": "cUShonR7xyY2",
        "outputId": "65511369-7c98-4bf6-dff2-ba51377e9d2d"
      },
      "execution_count": 9,
      "outputs": [
        {
          "output_type": "stream",
          "name": "stdout",
          "text": [
            "y와 같거나 y가 더 큽니다\n"
          ]
        }
      ]
    },
    {
      "cell_type": "code",
      "source": [
        "my_function = lambda x: 'Even' if x % 2 == 0 else '0dd'"
      ],
      "metadata": {
        "id": "p9FfTELwzePQ"
      },
      "execution_count": 10,
      "outputs": []
    },
    {
      "cell_type": "code",
      "source": [
        "# if, else문의 기본구조\n",
        "if 조건문 #조건문을 확인해서 만약 '참'이면 if 문 다음 문장들은 수행합니다\n",
        "    pass\n",
        "    # 수행할 문장 1 - 참일 경우에는 수행할 문장 1이 실행\n",
        "elif: # if문의 조건이 거짓이면 elif 문이 실행\n",
        "    pass\n",
        "    # 수행할 문장2 - if의 조건문이 거짓일 경우 else 있는 문장 수행\n",
        "else: #위 모든 if, elif문의 조건이 '참'이 아니라면 수행\n",
        "    # 수행할 문장 3\n",
        "    pass"
      ],
      "metadata": {
        "colab": {
          "base_uri": "https://localhost:8080/",
          "height": 148
        },
        "id": "NE6_2wkT0H-M",
        "outputId": "176d2f04-6cf5-4d11-cccc-ee8ceba17a68"
      },
      "execution_count": 12,
      "outputs": [
        {
          "output_type": "error",
          "ename": "SyntaxError",
          "evalue": "invalid syntax (<ipython-input-12-68ecd989e2a3>, line 2)",
          "traceback": [
            "\u001b[0;36m  File \u001b[0;32m\"<ipython-input-12-68ecd989e2a3>\"\u001b[0;36m, line \u001b[0;32m2\u001b[0m\n\u001b[0;31m    if #조건문 #조건문을 확인해서 만약 '참'이면 if 문 다음 문장들은 수행합니다\u001b[0m\n\u001b[0m       ^\u001b[0m\n\u001b[0;31mSyntaxError\u001b[0m\u001b[0;31m:\u001b[0m invalid syntax\n"
          ]
        }
      ]
    },
    {
      "cell_type": "code",
      "source": [
        "x = 3\n",
        "y = 1\n",
        "\n",
        "if x > y:\n",
        "    print('첫번째 값이 더 큽니다.')\n",
        "else:\n",
        "    print('두번째 값이 더 크거나 같습니다')"
      ],
      "metadata": {
        "colab": {
          "base_uri": "https://localhost:8080/"
        },
        "id": "2m78X1iu2r-e",
        "outputId": "d8614e3b-d64b-4e86-cb76-369865f268dc"
      },
      "execution_count": 13,
      "outputs": [
        {
          "output_type": "stream",
          "name": "stdout",
          "text": [
            "첫번째 값이 더 큽니다.\n"
          ]
        }
      ]
    },
    {
      "cell_type": "code",
      "source": [
        "#성적 입력 프로그램 기본\n",
        "score = int(input(\"성적을 입력하세요 (0-100)\"))\n",
        "\n",
        "if score >= 90: # 90점 이상일때\n",
        "    print(\"A\")\n",
        "elif 90 > score >= 80: # 89이하 80점이상\n",
        "    print(\"B\")\n",
        "elif 80 > score >= 70: # 79이하 70이상\n",
        "    print(\"C\")\n",
        "elif 70 > score >= 60: # 69이하 60이상\n",
        "    print(\"D\")\n",
        "else: # 59점이하 모두\n",
        "    print(\"F\")\n",
        "\n",
        "# 테스트를 다양하게"
      ],
      "metadata": {
        "colab": {
          "base_uri": "https://localhost:8080/"
        },
        "id": "D1Lhg4yC2-63",
        "outputId": "5ebbe73e-8fa0-4865-82ca-aeccf317c4dc"
      },
      "execution_count": 14,
      "outputs": [
        {
          "output_type": "stream",
          "name": "stdout",
          "text": [
            "성적을 입력하세요 (0-100)76\n",
            "C\n"
          ]
        }
      ]
    },
    {
      "cell_type": "code",
      "source": [
        "#score = 81\n",
        "money = 0\n",
        "\n",
        "if score >= 90:\n",
        "    money += 1000000\n",
        "elif score >= 80:\n",
        "    money += 100000\n",
        "elif score >= 70:\n",
        "    money += 10000\n",
        "elif score >= 60:\n",
        "    money += 1000\n",
        "else:\n",
        "    money = 0\n",
        "print(money) # 출력: 100000"
      ],
      "metadata": {
        "colab": {
          "base_uri": "https://localhost:8080/"
        },
        "id": "0lah98Nw4lW4",
        "outputId": "46cf241d-2bca-48ad-ef5d-393682e1c3c0"
      },
      "execution_count": 30,
      "outputs": [
        {
          "output_type": "stream",
          "name": "stdout",
          "text": [
            "100000\n"
          ]
        }
      ]
    },
    {
      "cell_type": "code",
      "source": [
        "#score = 81\n",
        "money = 0\n",
        "\n",
        "if score >= 90:\n",
        "    money += 1000000\n",
        "if score >= 80:\n",
        "    money += 100000\n",
        "if score >= 70:\n",
        "    money += 10000\n",
        "if score >= 60:\n",
        "    money += 1000\n",
        "else:\n",
        "    money = 0\n",
        "print(money) # 출력: 100000"
      ],
      "metadata": {
        "colab": {
          "base_uri": "https://localhost:8080/"
        },
        "id": "8RJ3zUmyDKli",
        "outputId": "733d23ad-4d0e-4402-b8b6-2062a02ae397"
      },
      "execution_count": 31,
      "outputs": [
        {
          "output_type": "stream",
          "name": "stdout",
          "text": [
            "111000\n"
          ]
        }
      ]
    },
    {
      "cell_type": "code",
      "source": [
        "score = 81\n",
        "money = 0\n",
        "\n",
        "if score >= 90:\n",
        "    money += 1000000\n",
        "    if score >= 80:\n",
        "        money += 100000\n",
        "        if score >= 70:\n",
        "            money += 10000\n",
        "            if score >= 60:\n",
        "                money += 1000\n",
        "            else:\n",
        "                money = 0\n",
        "print(money) # 출력: 100000"
      ],
      "metadata": {
        "colab": {
          "base_uri": "https://localhost:8080/"
        },
        "id": "rlS_cbTR6mO6",
        "outputId": "300f83a0-d977-41df-a09a-db8d9e883c3d"
      },
      "execution_count": 29,
      "outputs": [
        {
          "output_type": "stream",
          "name": "stdout",
          "text": [
            "0\n"
          ]
        }
      ]
    },
    {
      "cell_type": "code",
      "source": [
        "# if를 중첩해서 사용하기\n",
        "movie = {\n",
        "    '영화': '레미제라블',\n",
        "    '장르': '드라마',\n",
        "    '서비스': '디즈니',\n",
        "    '비용': 15000,\n",
        "    '평점': 4.9\n",
        "}\n",
        "\n",
        "if movie['장르'] == '드라마':\n",
        "    if movie['서비스'] == '디즈니' or movie['서비스'] == '넷플릭스':\n",
        "        if movie['평점'] >= 4.5:\n",
        "            if movie['비용'] <= 20000:\n",
        "                print('영화시청') # 출력: 영화시청"
      ],
      "metadata": {
        "colab": {
          "base_uri": "https://localhost:8080/"
        },
        "id": "rKpI3_NU_392",
        "outputId": "7b8d4dea-3378-43cd-aff7-02d6dc9dcb6b"
      },
      "execution_count": 18,
      "outputs": [
        {
          "output_type": "stream",
          "name": "stdout",
          "text": [
            "영화시청\n"
          ]
        }
      ]
    },
    {
      "cell_type": "code",
      "source": [],
      "metadata": {
        "id": "QHO6zGOQDjse"
      },
      "execution_count": 34,
      "outputs": []
    },
    {
      "cell_type": "code",
      "source": [
        "movie = {\n",
        "    '영화': '레미제라블',\n",
        "    '장르': '드라마',\n",
        "    '서비스': '왓챠',\n",
        "    '비용': 15000,\n",
        "    '평점': 4.9\n",
        "}\n",
        "\n",
        "if movie['장르'] == 'SF':\n",
        "    if movie['서비스'] == '디즈니' or movie['서비스'] == '넷플릭스':\n",
        "        if movie['평점'] >= 4.5 and movie['비용'] <= 20000:\n",
        "            print('영화시청')\n",
        "else:\n",
        "    print(movie['서비스'] + ' 구독하기!') # 출력: 왓챠 구독하기!"
      ],
      "metadata": {
        "colab": {
          "base_uri": "https://localhost:8080/"
        },
        "id": "AsjxKq8BBePq",
        "outputId": "2c87a3ad-61ad-4134-880c-75159f13bc39"
      },
      "execution_count": 33,
      "outputs": [
        {
          "output_type": "stream",
          "name": "stdout",
          "text": [
            "왓챠 구독하기!\n"
          ]
        }
      ]
    },
    {
      "cell_type": "code",
      "source": [],
      "metadata": {
        "id": "wfs1l_GyDRDL"
      },
      "execution_count": null,
      "outputs": []
    }
  ]
}