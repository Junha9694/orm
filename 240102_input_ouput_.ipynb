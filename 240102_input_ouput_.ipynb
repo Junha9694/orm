{
  "nbformat": 4,
  "nbformat_minor": 0,
  "metadata": {
    "colab": {
      "provenance": [],
      "authorship_tag": "ABX9TyPV1Y/iOETpm3Zyo7Q3hznc",
      "include_colab_link": true
    },
    "kernelspec": {
      "name": "python3",
      "display_name": "Python 3"
    },
    "language_info": {
      "name": "python"
    }
  },
  "cells": [
    {
      "cell_type": "markdown",
      "metadata": {
        "id": "view-in-github",
        "colab_type": "text"
      },
      "source": [
        "<a href=\"https://colab.research.google.com/github/Junha9694/orm/blob/main/240102_input_ouput_.ipynb\" target=\"_parent\"><img src=\"https://colab.research.google.com/assets/colab-badge.svg\" alt=\"Open In Colab\"/></a>"
      ]
    },
    {
      "cell_type": "markdown",
      "source": [
        "# 2024년 새해 계획 프로그램\n",
        "1. 나의 2024년도 계획을 적는다"
      ],
      "metadata": {
        "id": "3xdRGdThlTaa"
      }
    },
    {
      "cell_type": "code",
      "execution_count": 14,
      "metadata": {
        "colab": {
          "base_uri": "https://localhost:8080/"
        },
        "id": "WlbNNKX1lFCB",
        "outputId": "0b74e09f-93f8-417f-dab4-daea6f84cfd7"
      },
      "outputs": [
        {
          "name": "stdout",
          "output_type": "stream",
          "text": [
            "2024년도 계획은? : 파이썬 중급까지 노력하기\n",
            "올해 이루고 싶은소망?  AI 쳇봇 만들어보기\n",
            "여행가고 싶은곳  강원도 해안도로 여행\n",
            "매일의 목표  운동하기\n"
          ]
        }
      ],
      "source": [
        "sentence_1 = input(\"2024년도 계획은? : \") # 2024년도 계획\n",
        "target = input(\"올해 이루고 싶은소망?  \")  # 이루고 싶은 계획\n",
        "s1 = input(\"여행가고 싶은곳?  \") # 여행 장소\n",
        "s2 = input(\"매일의 목표는?  \") # 매일 목표"
      ]
    },
    {
      "cell_type": "code",
      "source": [
        "print(f\"2024년도 계획은 {sentence_1} 를(을)하기로 했다\")\n",
        "print(f\"올해 이것을 {target} 를(을) 이루고 싶다\")\n",
        "print(f\"올해 {s1} 를(을) 여행가고 싶다\")\n",
        "print(f\"올해 매일 {s2} 를(을) 노력하기\")\n"
      ],
      "metadata": {
        "colab": {
          "base_uri": "https://localhost:8080/"
        },
        "id": "AEddu-fplmEK",
        "outputId": "72a7f2cd-f70a-4336-f57d-8a2ecd4728f8"
      },
      "execution_count": 17,
      "outputs": [
        {
          "output_type": "stream",
          "name": "stdout",
          "text": [
            "2024년도 계획은 파이썬 중급까지 노력하기 를(을)하기로 했다\n",
            "올해 이것을 AI 쳇봇 만들어보기 를(을) 이루고 싶다\n",
            "올해 강원도 해안도로 여행 를(을) 여행가고 싶다\n",
            "올해 매일 운동하기 를(을) 노력하기\n"
          ]
        }
      ]
    },
    {
      "cell_type": "code",
      "source": [
        "print(f\"올해 나는 {sentence_1}과(와){target} 를(을) 집중적으로 하고싶다\")"
      ],
      "metadata": {
        "colab": {
          "base_uri": "https://localhost:8080/"
        },
        "id": "9-LSEpe1mHHv",
        "outputId": "84563a42-aaad-4175-fe1a-e2b929a489a0"
      },
      "execution_count": 18,
      "outputs": [
        {
          "output_type": "stream",
          "name": "stdout",
          "text": [
            "올해 나는 파이썬 중급까지 노력하기과(와)AI 쳇봇 만들어보기 를(을) 집중적으로 하고싶다\n"
          ]
        }
      ]
    },
    {
      "cell_type": "code",
      "source": [
        "print(f\"올해 나는 {sentence_1}과(와)\", end = \"*\")\n",
        "print(f\"{target} 를(을) 집중적으로 하고싶다\")"
      ],
      "metadata": {
        "colab": {
          "base_uri": "https://localhost:8080/"
        },
        "id": "vfwCRVqNwFQh",
        "outputId": "e0a28e4e-eafe-4be8-b2a8-c4d2d03637a1"
      },
      "execution_count": 20,
      "outputs": [
        {
          "output_type": "stream",
          "name": "stdout",
          "text": [
            "올해 나는 파이썬 중급까지 노력하기과(와)*AI 쳇봇 만들어보기 를(을) 집중적으로 하고싶다\n"
          ]
        }
      ]
    },
    {
      "cell_type": "code",
      "source": [
        "s3 = input(\"여행가고 싶은곳? 매일의 목표는? \") # 여행 장소"
      ],
      "metadata": {
        "colab": {
          "base_uri": "https://localhost:8080/"
        },
        "id": "JkqvJoBJxWaU",
        "outputId": "0c6247ba-e726-42df-b2f7-584a3d60e64d"
      },
      "execution_count": 27,
      "outputs": [
        {
          "name": "stdout",
          "output_type": "stream",
          "text": [
            "여행가고 싶은곳? 매일의 목표는? 강원도 운동하기\n"
          ]
        }
      ]
    },
    {
      "cell_type": "code",
      "source": [
        "print(s3)"
      ],
      "metadata": {
        "colab": {
          "base_uri": "https://localhost:8080/"
        },
        "id": "gs7qrCkNxwBW",
        "outputId": "38d9ce53-f078-4294-ba55-991ccf45e06d"
      },
      "execution_count": 28,
      "outputs": [
        {
          "output_type": "stream",
          "name": "stdout",
          "text": [
            "강원도 운동하기\n"
          ]
        }
      ]
    },
    {
      "cell_type": "code",
      "source": [
        "s4, s5 = s3.split() # 두 단어를 입력 받고 설정"
      ],
      "metadata": {
        "id": "ZuTF90mSwiAJ"
      },
      "execution_count": 30,
      "outputs": []
    },
    {
      "cell_type": "code",
      "source": [
        "print(s4, s5)"
      ],
      "metadata": {
        "colab": {
          "base_uri": "https://localhost:8080/"
        },
        "id": "2Bc1qDpvxPvH",
        "outputId": "5d2341c6-3514-4461-c118-7f4b9c714290"
      },
      "execution_count": 32,
      "outputs": [
        {
          "output_type": "stream",
          "name": "stdout",
          "text": [
            "강원도 운동하기\n"
          ]
        }
      ]
    },
    {
      "cell_type": "code",
      "source": [
        "print(f\"올해 나는 {s3}과(와)\", end = \"*\")\n",
        "print(f\"{s4} 를(을) 집중적으로 하고싶다\")"
      ],
      "metadata": {
        "colab": {
          "base_uri": "https://localhost:8080/"
        },
        "id": "5k_3FTuPyco5",
        "outputId": "0466aac3-7522-49ed-c832-bfe00cc8ede7"
      },
      "execution_count": 33,
      "outputs": [
        {
          "output_type": "stream",
          "name": "stdout",
          "text": [
            "올해 나는 강원도 운동하기과(와)*강원도 를(을) 집중적으로 하고싶다\n"
          ]
        }
      ]
    },
    {
      "cell_type": "code",
      "source": [],
      "metadata": {
        "id": "X8tBZSpgyi-t"
      },
      "execution_count": null,
      "outputs": []
    }
  ]
}