{
  "nbformat": 4,
  "nbformat_minor": 0,
  "metadata": {
    "colab": {
      "provenance": [],
      "authorship_tag": "ABX9TyOdwNkmJWT9wRViK0Csy71C",
      "include_colab_link": true
    },
    "kernelspec": {
      "name": "python3",
      "display_name": "Python 3"
    },
    "language_info": {
      "name": "python"
    }
  },
  "cells": [
    {
      "cell_type": "markdown",
      "metadata": {
        "id": "view-in-github",
        "colab_type": "text"
      },
      "source": [
        "<a href=\"https://colab.research.google.com/github/Junha9694/orm/blob/main/240117_%EB%AC%B8%EC%A0%9C.ipynb\" target=\"_parent\"><img src=\"https://colab.research.google.com/assets/colab-badge.svg\" alt=\"Open In Colab\"/></a>"
      ]
    },
    {
      "cell_type": "code",
      "execution_count": 1,
      "metadata": {
        "colab": {
          "base_uri": "https://localhost:8080/",
          "height": 147
        },
        "id": "Mx0rFNT8QJUR",
        "outputId": "2bd130be-d7fc-4455-b285-b85b36c52cca"
      },
      "outputs": [
        {
          "output_type": "error",
          "ename": "SyntaxError",
          "evalue": "invalid decimal literal (<ipython-input-1-379fafbbf3cb>, line 1)",
          "traceback": [
            "\u001b[0;36m  File \u001b[0;32m\"<ipython-input-1-379fafbbf3cb>\"\u001b[0;36m, line \u001b[0;32m1\u001b[0m\n\u001b[0;31m    데코레이터 문제: 1부터 100까지 더하는 함수를 만들고 이 함수에 데코레이터를 실행시켜 몇 초가 걸리는지 확인해주세요. 아래 힌트 코드 입니다.\u001b[0m\n\u001b[0m              ^\u001b[0m\n\u001b[0;31mSyntaxError\u001b[0m\u001b[0;31m:\u001b[0m invalid decimal literal\n"
          ]
        }
      ],
      "source": [
        "데코레이터 문제: 1부터 100까지 더하는 함수를 만들고 이 함수에 데코레이터를 실행시켜 몇 초가 걸리는지 확인해주세요. 아래 힌트 코드 입니다.\n",
        "import time\n",
        "\n",
        "def time_decorator(func):\n",
        "    def wrapper():\n",
        "        start_time = time.time()\n",
        "        result = func()\n",
        "        end_time = time.time()\n",
        "        print(f\"함수가 {end_time - start_time} 초가 걸렸습니다.\")\n",
        "        return result\n",
        "    return wrapper\n",
        "\n",
        "\n",
        "제너레이터 문제: 0부터 시작하여, 매 호출 시마다 2씩 증가하는 값을 반환하는 제너레이터 함수를 작성하세요. 100이 되면 멈춰야 합니다.\n",
        "\n",
        "for i in gen():\n",
        "    print(i)\n",
        "\n",
        "\n",
        "예외처리 문제: 사용자로부터 두 개의 숫자를 입력받아 나눗셈을 수행하는 함수를 작성하세요. 이 때 0으로 나눌 때에는 예외처리를 해주세요.\n",
        "\n",
        "def divide(x, y):\n",
        "    return x / y"
      ]
    },
    {
      "cell_type": "code",
      "source": [
        "# 1번\n",
        "import time\n",
        "\n",
        "def time_decorator(func):\n",
        "    def wrapper():\n",
        "        start_time = time.time()\n",
        "        result = func()\n",
        "        end_time = time.time()\n",
        "        print(f\"함수가 {end_time - start_time} 초가 걸렸습니다.\")\n",
        "        return result\n",
        "    return wrapper\n",
        "\n",
        "@time_decorator\n",
        "def sum100():\n",
        "    return sum(range(1, 101))\n",
        "\n",
        "result = sum100()\n",
        "print(f\"결과: {result}\")"
      ],
      "metadata": {
        "colab": {
          "base_uri": "https://localhost:8080/"
        },
        "id": "_DlT1lBGgpnd",
        "outputId": "774223e7-287b-49ae-e645-1dcd8f1c3e72"
      },
      "execution_count": 33,
      "outputs": [
        {
          "output_type": "stream",
          "name": "stdout",
          "text": [
            "함수가 2.86102294921875e-06 초가 걸렸습니다.\n",
            "결과: 5050\n"
          ]
        }
      ]
    },
    {
      "cell_type": "code",
      "source": [
        "#2번\n",
        "def gen():\n",
        "    i = 0\n",
        "    while i <= 100:\n",
        "        yield i\n",
        "        i += 2\n",
        "\n",
        "# 제너레이터를 사용하여 값을 출력\n",
        "for l in gen():\n",
        "    print(l)\n",
        "\n"
      ],
      "metadata": {
        "id": "MwhK8WrogqFs"
      },
      "execution_count": null,
      "outputs": []
    },
    {
      "cell_type": "code",
      "source": [
        "# 3번\n",
        "def divide(x, y):\n",
        "    try:\n",
        "        result = x / y\n",
        "        return result\n",
        "    except ZeroDivisionError:\n",
        "        print(\"0으로 나눌 수 없습니다.\")\n",
        "\n",
        "# 사용자로부터 두 개의 숫자를 입력받음\n",
        "num1 = float(input(\"첫 번째 숫자를 입력하세요: \"))\n",
        "num2 = float(input(\"두 번째 숫자를 입력하세요: \"))\n",
        "\n",
        "# 나눗셈 수행\n",
        "result = divide(num1, num2)\n",
        "\n",
        "# 결과 출력\n",
        "if result is not None:\n",
        "    print(f\"결과: {result}\")"
      ],
      "metadata": {
        "id": "mTNdtdZZQORe"
      },
      "execution_count": null,
      "outputs": []
    }
  ]
}