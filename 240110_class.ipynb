{
  "nbformat": 4,
  "nbformat_minor": 0,
  "metadata": {
    "colab": {
      "provenance": [],
      "authorship_tag": "ABX9TyPQ5EEfGyzNBAVn8eowqfCs",
      "include_colab_link": true
    },
    "kernelspec": {
      "name": "python3",
      "display_name": "Python 3"
    },
    "language_info": {
      "name": "python"
    }
  },
  "cells": [
    {
      "cell_type": "markdown",
      "metadata": {
        "id": "view-in-github",
        "colab_type": "text"
      },
      "source": [
        "<a href=\"https://colab.research.google.com/github/Junha9694/orm/blob/main/240110_class.ipynb\" target=\"_parent\"><img src=\"https://colab.research.google.com/assets/colab-badge.svg\" alt=\"Open In Colab\"/></a>"
      ]
    },
    {
      "cell_type": "markdown",
      "source": [
        "#1. 클래스"
      ],
      "metadata": {
        "id": "drigTDrVYnsv"
      }
    },
    {
      "cell_type": "code",
      "execution_count": 15,
      "metadata": {
        "id": "YzzDeROaXZBO"
      },
      "outputs": [],
      "source": [
        "class Car: # 차에 설계 도면 또는 차 공장, 클래스\n",
        "    max_speed = 300 # 멤버 또는 애트리뷰트\n",
        "    max_people = 5\n",
        "    car_gear = ['P', 'D', 'R', 'N']\n",
        "\n",
        "    def start(self): # 메서드\n",
        "        print('차가 출발합니다!')\n",
        "\n",
        "    def stop(self):\n",
        "        print('차가 멈췄습니다!')\n",
        "\n",
        "# 공장에서 생산된 자동차 modelx, y, s, 인스턴스\n",
        "modelx = Car() # 인스턴스 = 클래스()"
      ]
    },
    {
      "cell_type": "code",
      "source": [
        "# 클래스의 장점\n",
        "print(modelx.car_gear[1])\n",
        "#self는 무시된다. 함수를 가져올때는 () 꼭 입력한다.\n",
        "models.start()\n",
        "models.stop()"
      ],
      "metadata": {
        "colab": {
          "base_uri": "https://localhost:8080/"
        },
        "id": "7MGgQjXOZjCW",
        "outputId": "23e64ba2-940b-404b-defd-696018993a20"
      },
      "execution_count": 14,
      "outputs": [
        {
          "output_type": "stream",
          "name": "stdout",
          "text": [
            "D\n",
            "차가 출발합니다!\n",
            "차가 멈췄습니다!\n"
          ]
        }
      ]
    },
    {
      "cell_type": "code",
      "source": [
        "\n",
        "print(modelx.max_speed)\n",
        "print(modelx.car_gear[1])"
      ],
      "metadata": {
        "colab": {
          "base_uri": "https://localhost:8080/"
        },
        "id": "RGG5dIgoZ7T0",
        "outputId": "5123035e-fc22-4583-8dad-dae02876596e"
      },
      "execution_count": 10,
      "outputs": [
        {
          "output_type": "stream",
          "name": "stdout",
          "text": [
            "300\n",
            "D\n"
          ]
        }
      ]
    },
    {
      "cell_type": "code",
      "source": [
        "modely = Car()\n",
        "models = Car()"
      ],
      "metadata": {
        "id": "IFIutkvfaZ1D"
      },
      "execution_count": 11,
      "outputs": []
    },
    {
      "cell_type": "code",
      "source": [
        "# Car.max_speed # modelx에 속도를 보고 싶으면 modelx.max_speed를 찍어야 합니다.\n",
        "# 초기 설계는 300으로 찍혀 있지만, 고객이 아래와 같이 자동차 튜닝을 했을 수도 있으니까요.\n",
        "\n",
        "models.max_speed = 500\n",
        "\n",
        "print(models.max_speed) # 직접 클래스 자료에 접근해서 -> 데이터를 변경할수 있다.\n",
        "print(modely.max_speed)"
      ],
      "metadata": {
        "colab": {
          "base_uri": "https://localhost:8080/"
        },
        "id": "41aafqJSanja",
        "outputId": "c6ce9b5f-5503-4933-cbb4-63c360fa7b50"
      },
      "execution_count": 13,
      "outputs": [
        {
          "output_type": "stream",
          "name": "stdout",
          "text": [
            "500\n",
            "300\n"
          ]
        }
      ]
    },
    {
      "cell_type": "code",
      "source": [
        "def Car(x):\n",
        "    y = x + 1"
      ],
      "metadata": {
        "id": "JdmsAE_GayLI"
      },
      "execution_count": 16,
      "outputs": []
    },
    {
      "cell_type": "code",
      "source": [
        "# x = int(3) 여기서 넣었던 3이라는 값이 어떻게 처리되는지 확인\n",
        "class Car:\n",
        "    max_speed = 300\n",
        "    max_people = 5\n",
        "    car_gear = ['P', 'D', 'R', 'N']\n",
        "    # name = 'Tesla Model X'\n",
        "\n",
        "    def __init__(self, name, CEO): # 클래스로 인스턴스를 만들 때 호출!\n",
        "        self.name = name\n",
        "        self.CEO = CEO\n",
        "\n",
        "    def start(self):\n",
        "        print('차가 출발합니다!')\n",
        "\n",
        "    def stop(self):\n",
        "        print('차가 멈췄습니다!')\n",
        "\n",
        "modelx = Car('Tesla Model X', '일론머스트') # x = int(3) 여기서 넣었던 3이 __init__ 메직메서드에서 처리!\n",
        "print(modelx.name)\n",
        "print(modelx.CEO)\n"
      ],
      "metadata": {
        "colab": {
          "base_uri": "https://localhost:8080/"
        },
        "id": "4QjxBFLuc6oq",
        "outputId": "3ac990b5-ae88-4f42-d65e-048ee6b30256"
      },
      "execution_count": 19,
      "outputs": [
        {
          "output_type": "stream",
          "name": "stdout",
          "text": [
            "Tesla Model X\n",
            "일론머스트\n"
          ]
        }
      ]
    },
    {
      "cell_type": "code",
      "source": [
        "class Car:\n",
        "    def __init__(self, name, CEO): # 클래스에서 __init__는 붕어빵 틀 중에서 가장 기본 틀\n",
        "        self.name = name    # self는 인수로 전달받지도 전달하지도 않음 -> Car 클래스 그 자체\n",
        "        self.CEO = CEO      # 위에 꼭 self를 붙여야 self를 사용해서 self.name처럼 사용 할 수 있음\n",
        "\n",
        "modelx = Car('Tesla Model X', '일론 머스크') # __init__ 와 self로 구현된 값은 클래스 할당시 입력자료를 넣을수있음\n",
        "print(modelx.name)                           # 입력을 받을때 파라미터를 설정해야한다 (name. CEO처름)\n",
        "print(modelx.CEO)                            # 그러면 modelx처름 name과 CEO의 데이터를 불러올수 있다"
      ],
      "metadata": {
        "colab": {
          "base_uri": "https://localhost:8080/"
        },
        "id": "xO4cAWuCc8c9",
        "outputId": "9da2cf66-375b-4c2d-fa1d-6f1ef0063287"
      },
      "execution_count": 20,
      "outputs": [
        {
          "output_type": "stream",
          "name": "stdout",
          "text": [
            "Tesla Model X\n",
            "일론 머스크\n"
          ]
        }
      ]
    },
    {
      "cell_type": "code",
      "source": [
        "class Car:\n",
        "    kinds = []\n",
        "    speed = 300\n",
        "\n",
        "    def add_kinds(self, name):\n",
        "        self.kinds.append(name)\n",
        "\n",
        "    def change_speed(self, speed):\n",
        "        self.speed = speed\n",
        "\n",
        "modelx = Car()\n",
        "modely = Car()\n",
        "\n",
        "modelx.add_kinds('x')\n",
        "modely.add_kinds('y')\n",
        "\n",
        "Car.speed = 100\n",
        "\n",
        "# modelx.change_speed(500)\n",
        "# modely.change_speed(250)\n",
        "\n",
        "print(f'modelx.kinds: {modelx.kinds}')\n",
        "print(f'modely.kinds: {modely.kinds}')\n",
        "print(f'modelx.speed: {modelx.speed}')\n",
        "print(f'modely.speed: {modely.speed}')"
      ],
      "metadata": {
        "colab": {
          "base_uri": "https://localhost:8080/"
        },
        "id": "omq9uxMofMF5",
        "outputId": "e73ec4f5-9df8-4c8d-e489-37761688262d"
      },
      "execution_count": 21,
      "outputs": [
        {
          "output_type": "stream",
          "name": "stdout",
          "text": [
            "modelx.kinds: ['x', 'y']\n",
            "modely.kinds: ['x', 'y']\n",
            "modelx.speed: 100\n",
            "modely.speed: 100\n"
          ]
        }
      ]
    },
    {
      "cell_type": "code",
      "source": [
        "class Car:\n",
        "    kinds = []\n",
        "\n",
        "    def add_kinds(self, name):\n",
        "        self.kinds.append(name) #append -> 리스트에(name) nam(임시이름)값을 추가하는!\n",
        "\n",
        "modelx = Car()\n",
        "#여러번 반복!\n",
        "modelx.add_kinds('x')\n",
        "print(modelx.kinds)"
      ],
      "metadata": {
        "colab": {
          "base_uri": "https://localhost:8080/"
        },
        "id": "jWBIvu96ymLT",
        "outputId": "5991f89b-51cb-4ff5-d6f2-acc58daa42a2"
      },
      "execution_count": 32,
      "outputs": [
        {
          "output_type": "stream",
          "name": "stdout",
          "text": [
            "['x']\n"
          ]
        }
      ]
    },
    {
      "cell_type": "code",
      "source": [
        "modelx.kinds"
      ],
      "metadata": {
        "colab": {
          "base_uri": "https://localhost:8080/"
        },
        "id": "K0JvAZ_ezF8H",
        "outputId": "5551a1a3-7e92-4343-893e-9d3d679e8621"
      },
      "execution_count": 24,
      "outputs": [
        {
          "output_type": "execute_result",
          "data": {
            "text/plain": [
              "[]"
            ]
          },
          "metadata": {},
          "execution_count": 24
        }
      ]
    },
    {
      "cell_type": "code",
      "source": [
        "modelx.add_kinds('x')"
      ],
      "metadata": {
        "id": "wkYTpnu-zN3C"
      },
      "execution_count": 27,
      "outputs": []
    },
    {
      "cell_type": "code",
      "source": [
        "modelx.add_kinds('x')\n",
        "\n",
        "Car.speed = 100\n",
        "\n",
        "modelx.change_speed(500)\n",
        "\n",
        "print(f'modelx.kinds: {modelx.kinds}')\n",
        "print(f'modelx.speed: {modelx.speed}')"
      ],
      "metadata": {
        "colab": {
          "base_uri": "https://localhost:8080/"
        },
        "id": "QiI4ziZbzQTU",
        "outputId": "1253718d-fc74-42e8-f6f6-9b306b492394"
      },
      "execution_count": 28,
      "outputs": [
        {
          "output_type": "stream",
          "name": "stdout",
          "text": [
            "modelx.kinds: ['x', 'x', 'x', 'x']\n",
            "modelx.speed: 500\n"
          ]
        }
      ]
    },
    {
      "cell_type": "code",
      "source": [
        "modely = Car()"
      ],
      "metadata": {
        "id": "UR0BYXHuzR_t"
      },
      "execution_count": 29,
      "outputs": []
    },
    {
      "cell_type": "code",
      "source": [
        "modely.add_kinds('y')"
      ],
      "metadata": {
        "id": "djbqgSIE0Est"
      },
      "execution_count": 30,
      "outputs": []
    },
    {
      "cell_type": "code",
      "source": [
        "speed = 300 # 전역변수 speed 300\n",
        "\n",
        "def change_speed(value):\n",
        "    speed = value # 지역변수 speed\n",
        "    return speed\n",
        "\n",
        "speed_def = change_speed(100)\n",
        "print(speed) # 출력: 300\n",
        "print(speed_def)"
      ],
      "metadata": {
        "colab": {
          "base_uri": "https://localhost:8080/"
        },
        "id": "Hl1CMTBI0HJP",
        "outputId": "56c778a1-58ef-4803-a671-90310b28b468"
      },
      "execution_count": 33,
      "outputs": [
        {
          "output_type": "stream",
          "name": "stdout",
          "text": [
            "300\n",
            "100\n"
          ]
        }
      ]
    },
    {
      "cell_type": "code",
      "source": [
        "class Car:\n",
        "    kinds = [] # 클래스 변수 -> append()값 추가 -> 재할당(x)\n",
        "    speed = 300 # 클래스 편수 -> 인스턴스 변수로 변경!\n",
        "\n",
        "    def add_kinds(self, name):\n",
        "        self.kinds.append(name) #append -> 리스트에(name) nam(임시이름)값을 추가하는!\n",
        "\n",
        "    def change_speed(self, speed):\n",
        "        self.speed = speed # 인스턴스 변수를 생성 또는 변경(덮어쓰기 되는 형태)\n",
        "\n",
        "modelx = Car()\n",
        "#여러번 반복!\n",
        "modelx.add_kinds('x')\n",
        "print(modelx.kinds)\n",
        "print(speed)"
      ],
      "metadata": {
        "colab": {
          "base_uri": "https://localhost:8080/"
        },
        "id": "IxelC_hF5Eag",
        "outputId": "82471067-a348-475c-8f33-575857f74624"
      },
      "execution_count": 36,
      "outputs": [
        {
          "output_type": "stream",
          "name": "stdout",
          "text": [
            "['x']\n",
            "300\n"
          ]
        }
      ]
    },
    {
      "cell_type": "code",
      "source": [
        "try:\n",
        "    # 예외가 발생할 가능성이 있는 코드\n",
        "except:\n",
        "    # 예외 처리 코드"
      ],
      "metadata": {
        "id": "flpura1mG_xg"
      },
      "execution_count": null,
      "outputs": []
    },
    {
      "cell_type": "code",
      "source": [
        "try:\n",
        "    s = 1/0\n",
        "    print(s)\n",
        "except:\n",
        "    print('error가 발생되었습니다!')"
      ],
      "metadata": {
        "colab": {
          "base_uri": "https://localhost:8080/"
        },
        "id": "Vp0Y0XJZG78I",
        "outputId": "1cc06f48-132d-475c-d646-9342e191938d"
      },
      "execution_count": 39,
      "outputs": [
        {
          "output_type": "stream",
          "name": "stdout",
          "text": [
            "error가 발생되었습니다!\n"
          ]
        }
      ]
    },
    {
      "cell_type": "code",
      "source": [
        "try:\n",
        "    s = 1/0\n",
        "    print(s)\n",
        "except ZeroDivisionError:\n",
        "    print('0으로 나누어졌습니다!')"
      ],
      "metadata": {
        "colab": {
          "base_uri": "https://localhost:8080/"
        },
        "id": "B7V_oa32G6DG",
        "outputId": "20f46b9e-135c-4bad-d07d-8404a1176699"
      },
      "execution_count": 38,
      "outputs": [
        {
          "output_type": "stream",
          "name": "stdout",
          "text": [
            "0으로 나누어졌습니다!\n"
          ]
        }
      ]
    },
    {
      "cell_type": "code",
      "source": [
        "try:\n",
        "    s = 1/1 # 0에서 1로 값을 바꾸었습니다.\n",
        "    print(s)\n",
        "    l = [1, 2, 3]\n",
        "    print(l[3])\n",
        "except ZeroDivisionError:\n",
        "    print('0으로 나누어졌습니다!')\n",
        "except:\n",
        "    print('오류가 났습니다!')"
      ],
      "metadata": {
        "colab": {
          "base_uri": "https://localhost:8080/"
        },
        "id": "8F0eIgjuG4mX",
        "outputId": "48bd8b42-4543-4875-c0d0-07230031292c"
      },
      "execution_count": 37,
      "outputs": [
        {
          "output_type": "stream",
          "name": "stdout",
          "text": [
            "1.0\n",
            "오류가 났습니다!\n"
          ]
        }
      ]
    },
    {
      "cell_type": "code",
      "source": [
        "try:\n",
        "    i = 1\n",
        "    j = 1\n",
        "    x = i/j\n",
        "except:\n",
        "    print(\"error\")\n",
        "else:\n",
        "    print(x)\n",
        "finally:\n",
        "    print(\"무조건 출력이 됩니다\")"
      ],
      "metadata": {
        "colab": {
          "base_uri": "https://localhost:8080/"
        },
        "id": "ryiCjc55_QB7",
        "outputId": "dda7074d-b463-4d19-b087-88af4ad5fbc4"
      },
      "execution_count": 35,
      "outputs": [
        {
          "output_type": "stream",
          "name": "stdout",
          "text": [
            "1.0\n",
            "무조건 출력이 됩니다\n"
          ]
        }
      ]
    },
    {
      "cell_type": "code",
      "source": [
        "test = 'hello'\n",
        "\n",
        "assert test == 'hello', '애러 메시지 1' #1\n",
        "#assert test == 'world', '애러 메시지 2' #2\n",
        "assert test + 3 == 5, '애러 메시지 3' #3"
      ],
      "metadata": {
        "id": "D8s-HyDAHrnO"
      },
      "execution_count": null,
      "outputs": []
    },
    {
      "cell_type": "code",
      "source": [
        "raise ValueError\n",
        "raise ValueError('코드를 잘 만들어주세요')"
      ],
      "metadata": {
        "colab": {
          "base_uri": "https://localhost:8080/",
          "height": 203
        },
        "id": "2-ELg5w-Gupz",
        "outputId": "55e2a565-bb58-430c-b852-918fda7db337"
      },
      "execution_count": 42,
      "outputs": [
        {
          "output_type": "error",
          "ename": "ValueError",
          "evalue": "",
          "traceback": [
            "\u001b[0;31m---------------------------------------------------------------------------\u001b[0m",
            "\u001b[0;31mValueError\u001b[0m                                Traceback (most recent call last)",
            "\u001b[0;32m<ipython-input-42-d9d360236b3d>\u001b[0m in \u001b[0;36m<cell line: 1>\u001b[0;34m()\u001b[0m\n\u001b[0;32m----> 1\u001b[0;31m \u001b[0;32mraise\u001b[0m \u001b[0mValueError\u001b[0m\u001b[0;34m\u001b[0m\u001b[0;34m\u001b[0m\u001b[0m\n\u001b[0m\u001b[1;32m      2\u001b[0m \u001b[0;32mraise\u001b[0m \u001b[0mValueError\u001b[0m\u001b[0;34m(\u001b[0m\u001b[0;34m'코드를 잘 만들어주세요'\u001b[0m\u001b[0;34m)\u001b[0m\u001b[0;34m\u001b[0m\u001b[0;34m\u001b[0m\u001b[0m\n",
            "\u001b[0;31mValueError\u001b[0m: "
          ]
        }
      ]
    },
    {
      "cell_type": "code",
      "source": [],
      "metadata": {
        "id": "Jnao5zeUHfEH"
      },
      "execution_count": null,
      "outputs": []
    }
  ]
}