{
  "nbformat": 4,
  "nbformat_minor": 0,
  "metadata": {
    "colab": {
      "provenance": [],
      "authorship_tag": "ABX9TyNOwOxfvP06JzWfPaiFfEXy",
      "include_colab_link": true
    },
    "kernelspec": {
      "name": "python3",
      "display_name": "Python 3"
    },
    "language_info": {
      "name": "python"
    }
  },
  "cells": [
    {
      "cell_type": "markdown",
      "metadata": {
        "id": "view-in-github",
        "colab_type": "text"
      },
      "source": [
        "<a href=\"https://colab.research.google.com/github/Junha9694/orm/blob/main/231229_%EC%A3%BC%EC%84%9D.ipynb\" target=\"_parent\"><img src=\"https://colab.research.google.com/assets/colab-badge.svg\" alt=\"Open In Colab\"/></a>"
      ]
    },
    {
      "cell_type": "markdown",
      "source": [
        "# 1. 주석"
      ],
      "metadata": {
        "id": "zg4FL37aC2OU"
      }
    },
    {
      "cell_type": "markdown",
      "source": [
        "## 1.1 한줄 주석\n"
      ],
      "metadata": {
        "id": "mfbijFHaDhpz"
      }
    },
    {
      "cell_type": "code",
      "execution_count": 5,
      "metadata": {
        "colab": {
          "base_uri": "https://localhost:8080/"
        },
        "id": "wZxKRRncC00J",
        "outputId": "d1946a8e-0eda-4f12-b719-bd27e3dd476a"
      },
      "outputs": [
        {
          "output_type": "stream",
          "name": "stdout",
          "text": [
            "hello, world 1!\n",
            "hello, world 2!\n"
          ]
        }
      ],
      "source": [
        "# 이것은 주석입니다.(특이사항, 전체적인 것들, 업데이트내용)\n",
        "print('hello, world 1!') # 이것도 주석입니다.(해당코드설명)\n",
        "print('hello, world 2!') # 코드의 에러 / 향후 수정 /"
      ]
    },
    {
      "cell_type": "markdown",
      "source": [
        "## 1.2 여러 줄 주석"
      ],
      "metadata": {
        "id": "CuI3oOoQEz5J"
      }
    },
    {
      "cell_type": "code",
      "source": [
        "'''\n",
        "print('hello, world 1!')\n",
        "print('hello, world 2!')\n",
        "print('hello, world 3!')\n",
        "'''\n",
        "\"\"\"\n",
        "12356324\n",
        "\"\"\"\n",
        "print('hello, world 3!')"
      ],
      "metadata": {
        "colab": {
          "base_uri": "https://localhost:8080/"
        },
        "id": "vVLHFcIXD3-E",
        "outputId": "ebdaef64-f446-4066-85d4-4569981582dc"
      },
      "execution_count": 11,
      "outputs": [
        {
          "output_type": "stream",
          "name": "stdout",
          "text": [
            "hello, world 3!\n"
          ]
        }
      ]
    }
  ]
}