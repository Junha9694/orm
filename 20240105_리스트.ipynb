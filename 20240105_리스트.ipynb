{
  "nbformat": 4,
  "nbformat_minor": 0,
  "metadata": {
    "colab": {
      "provenance": [],
      "authorship_tag": "ABX9TyOodnFHgcqvSfdDe17+7ArC",
      "include_colab_link": true
    },
    "kernelspec": {
      "name": "python3",
      "display_name": "Python 3"
    },
    "language_info": {
      "name": "python"
    }
  },
  "cells": [
    {
      "cell_type": "markdown",
      "metadata": {
        "id": "view-in-github",
        "colab_type": "text"
      },
      "source": [
        "<a href=\"https://colab.research.google.com/github/Junha9694/orm/blob/main/20240105_%EB%A6%AC%EC%8A%A4%ED%8A%B8.ipynb\" target=\"_parent\"><img src=\"https://colab.research.google.com/assets/colab-badge.svg\" alt=\"Open In Colab\"/></a>"
      ]
    },
    {
      "cell_type": "code",
      "source": [
        "a = 10\n",
        "b = a\n",
        "c = b\n",
        "\n",
        "print(c)\n",
        "\n",
        "a = 10\n",
        "b = a\n",
        "c = b\n",
        "a = 20\n",
        "print(c)\n",
        "\n",
        "a = 10\n",
        "b = a\n",
        "\n",
        "print(id(a))\n",
        "print(id(b))"
      ],
      "metadata": {
        "id": "40qKM_WbTrxH"
      },
      "execution_count": null,
      "outputs": []
    },
    {
      "cell_type": "code",
      "source": [
        "# -5부터 256은 같습니다.\n",
        "a = 10\n",
        "b = 10\n",
        "\n",
        "print(id(a))\n",
        "print(id(b))\n",
        "print(a is b)\n",
        "\n",
        "\n",
        "a = 257\n",
        "b = 257\n",
        "\n",
        "print(id(a))\n",
        "print(id(b))\n",
        "print(a is b)"
      ],
      "metadata": {
        "colab": {
          "base_uri": "https://localhost:8080/"
        },
        "id": "-ZdtNd8JT3dS",
        "outputId": "3f8d8241-d3a9-4269-eaec-a08e96c5025c"
      },
      "execution_count": 15,
      "outputs": [
        {
          "output_type": "stream",
          "name": "stdout",
          "text": [
            "136826873184784\n",
            "136826873184784\n",
            "True\n",
            "136825538862320\n",
            "136825538864496\n",
            "False\n"
          ]
        }
      ]
    },
    {
      "cell_type": "markdown",
      "source": [
        "# 이호준 강사님 재교육"
      ],
      "metadata": {
        "id": "WZ6O7ykXLmwZ"
      }
    },
    {
      "cell_type": "code",
      "execution_count": 1,
      "metadata": {
        "colab": {
          "base_uri": "https://localhost:8080/"
        },
        "id": "IpCIs9arFXBE",
        "outputId": "272b32ea-1688-4872-9827-3e6e15524fa4"
      },
      "outputs": [
        {
          "output_type": "stream",
          "name": "stdout",
          "text": [
            "helloworldhelloworldhelloworldhelloworldhelloworldhelloworldhelloworldhelloworldhelloworld\n",
            "helloworld \n",
            " helloworld\n"
          ]
        }
      ],
      "source": [
        "# 회색 줄은 영문자 80자 한글은 32자\n",
        "# 줄이 너무 길면 가독성이 떨어짐\n",
        "# python 잘 하시는분 보기 좋은방법\n",
        "\n",
        "print('helloworldhelloworldhelloworldhelloworldhelloworldhelloworldhelloworldhelloworldhelloworld')\n",
        "#보기 안좋음\n",
        "print('helloworld \\n helloworld')"
      ]
    },
    {
      "cell_type": "code",
      "source": [
        "'hello world'.upper().split(' ').pop().lower() # 이렇게 코딩하면 안됨\n",
        "\n",
        "# 문제가 덜한 코드\n",
        "# 대문자 = 'hello world'.upper()\n",
        "# 잘린대문자 = 대문자.split(' ')\n",
        "\n",
        "# 허용함\n",
        "'hello world'.upper()\\\n",
        "    .split(' ')\\\n",
        "    .pop()\\\n",
        "    .lower()\n",
        "\n",
        "# 허용함\n",
        "'hello world'.upper()   .split(' ')   .pop()   .lower()\n",
        "\n",
        "# 허용하지 않음(\\n)\n",
        "# 'hello world'.upper()\n",
        "#     .split(' ')\n",
        "#     .pop()\n",
        "#     .lower()\n",
        "\n",
        "# 허용하지 않음(\\n)\n",
        "# 'hello world'.upper()\n",
        "# .split(' ')\n",
        "# .pop()\n",
        "# .lower()"
      ],
      "metadata": {
        "colab": {
          "base_uri": "https://localhost:8080/",
          "height": 36
        },
        "id": "JxmkqHodL4rm",
        "outputId": "6f5545e7-f8b7-4bfe-ffd8-e4d17996f42d"
      },
      "execution_count": 21,
      "outputs": [
        {
          "output_type": "execute_result",
          "data": {
            "text/plain": [
              "'world'"
            ],
            "application/vnd.google.colaboratory.intrinsic+json": {
              "type": "string"
            }
          },
          "metadata": {},
          "execution_count": 21
        }
      ]
    },
    {
      "cell_type": "markdown",
      "source": [
        "# 질문 : 메서드 체인으로 길어지면 어떻게 하나요?\n",
        "# 답 : 메서드 체인으로 80자 이상이면 이미 가독성에 문제가 있는 것입니다.\n",
        "# 메서드 체이닝을 3개 이상 하길 권하지 않음\n"
      ],
      "metadata": {
        "id": "8OjZhaoGLsUj"
      }
    },
    {
      "cell_type": "code",
      "source": [
        "# 문자열 메서드\n",
        "dir('helloworld') # 메서드 종류 나옴 (메서드, 매직메서드, (클래스변수,인스턴스변수))"
      ],
      "metadata": {
        "colab": {
          "base_uri": "https://localhost:8080/"
        },
        "id": "RNDOfZo3MUeK",
        "outputId": "53ea18a2-58ed-4fb8-f121-3932d9d4f9be"
      },
      "execution_count": 10,
      "outputs": [
        {
          "output_type": "execute_result",
          "data": {
            "text/plain": [
              "['__add__',\n",
              " '__class__',\n",
              " '__contains__',\n",
              " '__delattr__',\n",
              " '__dir__',\n",
              " '__doc__',\n",
              " '__eq__',\n",
              " '__format__',\n",
              " '__ge__',\n",
              " '__getattribute__',\n",
              " '__getitem__',\n",
              " '__getnewargs__',\n",
              " '__gt__',\n",
              " '__hash__',\n",
              " '__init__',\n",
              " '__init_subclass__',\n",
              " '__iter__',\n",
              " '__le__',\n",
              " '__len__',\n",
              " '__lt__',\n",
              " '__mod__',\n",
              " '__mul__',\n",
              " '__ne__',\n",
              " '__new__',\n",
              " '__reduce__',\n",
              " '__reduce_ex__',\n",
              " '__repr__',\n",
              " '__rmod__',\n",
              " '__rmul__',\n",
              " '__setattr__',\n",
              " '__sizeof__',\n",
              " '__str__',\n",
              " '__subclasshook__',\n",
              " 'capitalize',\n",
              " 'casefold',\n",
              " 'center',\n",
              " 'count',\n",
              " 'encode',\n",
              " 'endswith',\n",
              " 'expandtabs',\n",
              " 'find',\n",
              " 'format',\n",
              " 'format_map',\n",
              " 'index',\n",
              " 'isalnum',\n",
              " 'isalpha',\n",
              " 'isascii',\n",
              " 'isdecimal',\n",
              " 'isdigit',\n",
              " 'isidentifier',\n",
              " 'islower',\n",
              " 'isnumeric',\n",
              " 'isprintable',\n",
              " 'isspace',\n",
              " 'istitle',\n",
              " 'isupper',\n",
              " 'join',\n",
              " 'ljust',\n",
              " 'lower',\n",
              " 'lstrip',\n",
              " 'maketrans',\n",
              " 'partition',\n",
              " 'removeprefix',\n",
              " 'removesuffix',\n",
              " 'replace',\n",
              " 'rfind',\n",
              " 'rindex',\n",
              " 'rjust',\n",
              " 'rpartition',\n",
              " 'rsplit',\n",
              " 'rstrip',\n",
              " 'split',\n",
              " 'splitlines',\n",
              " 'startswith',\n",
              " 'strip',\n",
              " 'swapcase',\n",
              " 'title',\n",
              " 'translate',\n",
              " 'upper',\n",
              " 'zfill']"
            ]
          },
          "metadata": {},
          "execution_count": 10
        }
      ]
    },
    {
      "cell_type": "code",
      "source": [
        "# 문제1 : find와 index 차이\n",
        "# 실무에서 사용하는 코드 :\n",
        "\n",
        "'helloworld'.find('hi') # 출력값 -1 (true)로 나옴 실무에서 자주나옴"
      ],
      "metadata": {
        "colab": {
          "base_uri": "https://localhost:8080/"
        },
        "id": "hmgo5JBLNY_Q",
        "outputId": "6b562743-bdc4-4ba5-fded-3b5976112438"
      },
      "execution_count": 11,
      "outputs": [
        {
          "output_type": "execute_result",
          "data": {
            "text/plain": [
              "-1"
            ]
          },
          "metadata": {},
          "execution_count": 11
        }
      ]
    },
    {
      "cell_type": "code",
      "source": [
        "# 문제 2 isdigt의 정체\n",
        "# 전부 숫자인지 파악\n",
        "print('123'.isdigit()) #true\n",
        "print('123g'.isdigit()) #false\n",
        "'123g'.isdigit()"
      ],
      "metadata": {
        "colab": {
          "base_uri": "https://localhost:8080/"
        },
        "id": "szbL6iHxNgKp",
        "outputId": "7ff1d835-8243-423f-f978-401f0d35b385"
      },
      "execution_count": 13,
      "outputs": [
        {
          "output_type": "stream",
          "name": "stdout",
          "text": [
            "True\n",
            "False\n"
          ]
        },
        {
          "output_type": "execute_result",
          "data": {
            "text/plain": [
              "False"
            ]
          },
          "metadata": {},
          "execution_count": 13
        }
      ]
    },
    {
      "cell_type": "code",
      "source": [
        "# 문제 3 reaplce가 어디까지 변환되는가?\n",
        "'hello world hello wrold'.replace('hello', 'hi') # 모두가 변환된다.  몇 개만 변환되는게 아니다"
      ],
      "metadata": {
        "colab": {
          "base_uri": "https://localhost:8080/",
          "height": 36
        },
        "id": "fhbmC5HiN0Vf",
        "outputId": "e40346e3-50c5-4403-c679-38df1a0c456e"
      },
      "execution_count": 14,
      "outputs": [
        {
          "output_type": "execute_result",
          "data": {
            "text/plain": [
              "'hi world hi wrold'"
            ],
            "application/vnd.google.colaboratory.intrinsic+json": {
              "type": "string"
            }
          },
          "metadata": {},
          "execution_count": 14
        }
      ]
    },
    {
      "cell_type": "code",
      "source": [
        "print('helloworld' 'helloworld')\n",
        "print('helloworld',\n",
        "      'helloworld') # 콤마를 쓰면 보기 좋게 뛰어짐"
      ],
      "metadata": {
        "colab": {
          "base_uri": "https://localhost:8080/"
        },
        "id": "SaR4B-xYLLko",
        "outputId": "14acf4f3-3c44-4fa7-9110-14c879841abc"
      },
      "execution_count": 4,
      "outputs": [
        {
          "output_type": "stream",
          "name": "stdout",
          "text": [
            "helloworldhelloworld\n",
            "helloworld helloworld\n"
          ]
        }
      ]
    },
    {
      "cell_type": "code",
      "source": [
        "# 문제4 strip(공백제거)\n",
        "# 문제 zfill(앞에 0으로 채워주는것, 원하는 자릿수만큼, 대표적 시계나 연도 사용)"
      ],
      "metadata": {
        "id": "tgKQIav2MLSy"
      },
      "execution_count": null,
      "outputs": []
    },
    {
      "cell_type": "markdown",
      "source": [
        "# 리스트\n",
        "* 변경이 가능한 자료형\n",
        "* 순서가 있는 자료형(시퀀스형 자료형, 인덱스, 슬라이싱)\n",
        "*"
      ],
      "metadata": {
        "id": "_64uxvdcPb30"
      }
    },
    {
      "cell_type": "code",
      "source": [
        "l = [10,20,30]\n",
        "# 라인수가 길어졌을때에는 이렇게 사용하길 권함\n",
        "l = [10,\n",
        "     20,\n",
        "     30] # 이렇게 됨 , 콤마가 다음라인까지 인식함\n",
        "\n",
        "# 추천 권고2 (이렇게 실무에서 더 많이 사용함)\n",
        "l = [\n",
        "    10,\n",
        "    20,\n",
        "    30,\n",
        "]\n",
        "# 위에껀 문제가 있음! 통신을 할때 Json이라는 형식을 사용하는데\n",
        "# json은 마지막에 콤마를 허용하지 않음. 통신 Json은 콤마를 없애줘야함\n",
        "# 왜 문제가 있는 2번을 더 많이 사용하는가?\n",
        "# 실무에서 (,) 콤마를 버전업으로 인식하는 경우도 많고,\n",
        "# 콤마를 빼먹는 경우가 많음\n",
        "# 편의성때문 Ctrl + C, Ctrl + V 하기가 편함\n",
        "# 자동 변한 SW를 사용합니다 ()"
      ],
      "metadata": {
        "id": "6_5DddVIPuRi"
      },
      "execution_count": null,
      "outputs": []
    },
    {
      "cell_type": "code",
      "source": [
        "l = [10,20,30]\n",
        "l[2] = 1000\n",
        "print(l)"
      ],
      "metadata": {
        "colab": {
          "base_uri": "https://localhost:8080/"
        },
        "id": "9NZMpMfJQ4Gg",
        "outputId": "ccf9c25e-736f-4ebf-9736-bcd69dbd3ddb"
      },
      "execution_count": 32,
      "outputs": [
        {
          "output_type": "stream",
          "name": "stdout",
          "text": [
            "[10, 20, 1000]\n"
          ]
        }
      ]
    },
    {
      "cell_type": "code",
      "source": [
        "# str은 안됨\n",
        "s = 'hello wolrd'\n",
        "\n",
        "print(s.replace('h','y'))# 이건 한번만 변경이기 때문에\n",
        "print(s)"
      ],
      "metadata": {
        "colab": {
          "base_uri": "https://localhost:8080/"
        },
        "id": "Ot1KaUSYXCbp",
        "outputId": "1cc76a9b-7fbb-4954-84bc-3c4932507edd"
      },
      "execution_count": 24,
      "outputs": [
        {
          "output_type": "stream",
          "name": "stdout",
          "text": [
            "yello wolrd\n",
            "hello wolrd\n"
          ]
        }
      ]
    },
    {
      "cell_type": "code",
      "source": [
        "s = 'y'+s[1:] #변경이 됨\n",
        "print(s)"
      ],
      "metadata": {
        "colab": {
          "base_uri": "https://localhost:8080/"
        },
        "id": "OdJUpK48YVJg",
        "outputId": "cb54a1e2-c3a9-4e45-ea77-3c34ddeed3b3"
      },
      "execution_count": 29,
      "outputs": [
        {
          "output_type": "stream",
          "name": "stdout",
          "text": [
            "yello wolrd\n"
          ]
        }
      ]
    },
    {
      "cell_type": "code",
      "source": [
        "#인덱싱\n",
        "i = [10,20,30,40,50]\n",
        "print(i[-1]) # 뒤에서 하나\n",
        "print(i[-2:]) #마이너스 인덱싱 , 마이너스 슬라이싱은 최종적으로 양수로 처환됨\n",
        "print(i[3:]) #3 번이후 출력\n",
        "\n",
        "# 변수명[stop] ex) print(i[1])\n",
        "# 변수명[start:stop] ex) print(i[-2:])\n",
        "# 변수명[start:stop:step] ex) print(i[3:])"
      ],
      "metadata": {
        "colab": {
          "base_uri": "https://localhost:8080/"
        },
        "id": "KoIbzoffZKOh",
        "outputId": "8f2a8a18-ebe2-4502-dd9b-36c5975b828a"
      },
      "execution_count": 34,
      "outputs": [
        {
          "output_type": "stream",
          "name": "stdout",
          "text": [
            "50\n",
            "[40, 50]\n",
            "[40, 50]\n"
          ]
        }
      ]
    },
    {
      "cell_type": "code",
      "source": [
        "type(i), dir(i)\n",
        "# type은 검색 키워드, gpt 질문 키워드가 될 수 있다\n",
        "# dir은 대략적인 속성을 알 수 있다\n"
      ],
      "metadata": {
        "colab": {
          "base_uri": "https://localhost:8080/"
        },
        "id": "VgUzhHK0Zw3F",
        "outputId": "c444ad5e-3710-4479-e726-190e834c5a47"
      },
      "execution_count": 35,
      "outputs": [
        {
          "output_type": "execute_result",
          "data": {
            "text/plain": [
              "(list,\n",
              " ['__add__',\n",
              "  '__class__',\n",
              "  '__class_getitem__',\n",
              "  '__contains__',\n",
              "  '__delattr__',\n",
              "  '__delitem__',\n",
              "  '__dir__',\n",
              "  '__doc__',\n",
              "  '__eq__',\n",
              "  '__format__',\n",
              "  '__ge__',\n",
              "  '__getattribute__',\n",
              "  '__getitem__',\n",
              "  '__gt__',\n",
              "  '__hash__',\n",
              "  '__iadd__',\n",
              "  '__imul__',\n",
              "  '__init__',\n",
              "  '__init_subclass__',\n",
              "  '__iter__',\n",
              "  '__le__',\n",
              "  '__len__',\n",
              "  '__lt__',\n",
              "  '__mul__',\n",
              "  '__ne__',\n",
              "  '__new__',\n",
              "  '__reduce__',\n",
              "  '__reduce_ex__',\n",
              "  '__repr__',\n",
              "  '__reversed__',\n",
              "  '__rmul__',\n",
              "  '__setattr__',\n",
              "  '__setitem__',\n",
              "  '__sizeof__',\n",
              "  '__str__',\n",
              "  '__subclasshook__',\n",
              "  'append',\n",
              "  'clear',\n",
              "  'copy',\n",
              "  'count',\n",
              "  'extend',\n",
              "  'index',\n",
              "  'insert',\n",
              "  'pop',\n",
              "  'remove',\n",
              "  'reverse',\n",
              "  'sort'])"
            ]
          },
          "metadata": {},
          "execution_count": 35
        }
      ]
    },
    {
      "cell_type": "code",
      "source": [
        "#__add__가 있으니 더하기는 어디까지 될까? => 테스트\n",
        "#__mul__이 있으니 곱하기는 어디까지 될까? => 테스트\n",
        "l = [10,20,30]\n",
        "# l + 100 # 정수 더하기 안됩니다\n",
        "print(l + [100])\n",
        "print(l + [100,200])\n",
        "print(l * 3)\n"
      ],
      "metadata": {
        "colab": {
          "base_uri": "https://localhost:8080/"
        },
        "id": "oca6Gsnwa6DN",
        "outputId": "6d941ebe-fb61-41fb-baef-15c99d1b75c3"
      },
      "execution_count": 36,
      "outputs": [
        {
          "output_type": "stream",
          "name": "stdout",
          "text": [
            "[10, 20, 30, 100]\n",
            "[10, 20, 30, 100, 200]\n",
            "[10, 20, 30, 10, 20, 30, 10, 20, 30]\n"
          ]
        }
      ]
    },
    {
      "cell_type": "code",
      "source": [
        "# 리스트 곱하기는 매우 주의해야 합니다\n",
        "# 곱하기가 2중으로 있을때에는 나중에 배울 리스트 컴프리헨션 사용\n",
        "l = [[1,2,3] * 3] * 2\n",
        "l[1][0] = 1000\n",
        "l"
      ],
      "metadata": {
        "colab": {
          "base_uri": "https://localhost:8080/"
        },
        "id": "0MH-7n6ib8jt",
        "outputId": "73d405e2-3ad9-4c98-b049-c3d0e983add8"
      },
      "execution_count": 43,
      "outputs": [
        {
          "output_type": "execute_result",
          "data": {
            "text/plain": [
              "[[1000, 2, 3, 1, 2, 3, 1, 2, 3], [1000, 2, 3, 1, 2, 3, 1, 2, 3]]"
            ]
          },
          "metadata": {},
          "execution_count": 43
        }
      ]
    },
    {
      "cell_type": "code",
      "source": [
        "l[1][1] = 10000\n",
        "l"
      ],
      "metadata": {
        "colab": {
          "base_uri": "https://localhost:8080/"
        },
        "id": "JM1g_g_ncRiH",
        "outputId": "300bdd71-ae1e-4fe8-a625-86b06a980f01"
      },
      "execution_count": 45,
      "outputs": [
        {
          "output_type": "execute_result",
          "data": {
            "text/plain": [
              "[[1000, 10000, 3, 1, 2, 3, 1, 2, 3], [1000, 10000, 3, 1, 2, 3, 1, 2, 3]]"
            ]
          },
          "metadata": {},
          "execution_count": 45
        }
      ]
    },
    {
      "cell_type": "code",
      "source": [
        "# 암기해주세요.\n",
        "x = 10 #스칼라\n",
        "x = [10] #백터\n",
        "x = [10,20] #백터\n",
        "x = [[10,20][10,20]] #매트릭스\n",
        "x = [[10,20][10,20][10,20][10,20]] #텐서(3차원 이상 행렬)"
      ],
      "metadata": {
        "id": "DUwpb0Cocz69"
      },
      "execution_count": null,
      "outputs": []
    },
    {
      "cell_type": "code",
      "source": [
        "# 텐서플로? google에서 만든 딥러닝 라이브러리\n",
        "# 인공지는 => 행렬의 연산"
      ],
      "metadata": {
        "id": "oG5NhBsteVjW"
      },
      "execution_count": null,
      "outputs": []
    },
    {
      "cell_type": "code",
      "source": [
        "x = [[1, 2],[3, 4],[5, 6]]\n",
        "x[1] # x의 1번"
      ],
      "metadata": {
        "colab": {
          "base_uri": "https://localhost:8080/"
        },
        "id": "WOsEdjPjecwY",
        "outputId": "3b858007-658d-49d6-dd31-326bb9ccb790"
      },
      "execution_count": 48,
      "outputs": [
        {
          "output_type": "execute_result",
          "data": {
            "text/plain": [
              "[3, 4]"
            ]
          },
          "metadata": {},
          "execution_count": 48
        }
      ]
    },
    {
      "cell_type": "code",
      "source": [
        "x[1][1] #x의 1번의 1번출력"
      ],
      "metadata": {
        "colab": {
          "base_uri": "https://localhost:8080/"
        },
        "id": "sAeFEdm6e3HF",
        "outputId": "7476bfd5-e530-47ef-fb44-f7e36153e304"
      },
      "execution_count": 49,
      "outputs": [
        {
          "output_type": "execute_result",
          "data": {
            "text/plain": [
              "4"
            ]
          },
          "metadata": {},
          "execution_count": 49
        }
      ]
    },
    {
      "cell_type": "code",
      "source": [
        "# 한번에 입력 Ctrl + Alt + 화살표위나 아래, print(입력후 end버튼 누르면 끝으로)\n",
        "x = [[1, 2],[3, 'hello world'],[5, 6]]\n",
        "print(x[1])\n",
        "print(x[1][1])\n",
        "print(x[1][1][6:])"
      ],
      "metadata": {
        "colab": {
          "base_uri": "https://localhost:8080/"
        },
        "id": "NI7ZxfaIe8OE",
        "outputId": "033463c2-39f2-4390-8fb6-6dd049a7bce8"
      },
      "execution_count": 50,
      "outputs": [
        {
          "output_type": "stream",
          "name": "stdout",
          "text": [
            "[3, 'hello world']\n",
            "hello world\n",
            "world\n"
          ]
        }
      ]
    },
    {
      "cell_type": "code",
      "source": [
        "x = 10\n",
        "# 다르다는 것만 인지해주세요!\n",
        "print(x) #__str__\n",
        "x"
      ],
      "metadata": {
        "id": "_xN8lo6LfQl7"
      },
      "execution_count": null,
      "outputs": []
    },
    {
      "cell_type": "markdown",
      "source": [
        "# shift + tap\n",
        "# ctl + [, ctrl + ]\n",
        "모두 선택해서 앞 빈공간 없앨때"
      ],
      "metadata": {
        "id": "oK_4r8eahC3c"
      }
    },
    {
      "cell_type": "code",
      "source": [
        "i = [10,20,30]\n",
        "dir(i)\n"
      ],
      "metadata": {
        "colab": {
          "base_uri": "https://localhost:8080/"
        },
        "id": "yQ9rG59kgTGT",
        "outputId": "f40be79a-d401-4ca9-f954-befebbde9ce4"
      },
      "execution_count": 58,
      "outputs": [
        {
          "output_type": "execute_result",
          "data": {
            "text/plain": [
              "['__add__',\n",
              " '__class__',\n",
              " '__class_getitem__',\n",
              " '__contains__',\n",
              " '__delattr__',\n",
              " '__delitem__',\n",
              " '__dir__',\n",
              " '__doc__',\n",
              " '__eq__',\n",
              " '__format__',\n",
              " '__ge__',\n",
              " '__getattribute__',\n",
              " '__getitem__',\n",
              " '__gt__',\n",
              " '__hash__',\n",
              " '__iadd__',\n",
              " '__imul__',\n",
              " '__init__',\n",
              " '__init_subclass__',\n",
              " '__iter__',\n",
              " '__le__',\n",
              " '__len__',\n",
              " '__lt__',\n",
              " '__mul__',\n",
              " '__ne__',\n",
              " '__new__',\n",
              " '__reduce__',\n",
              " '__reduce_ex__',\n",
              " '__repr__',\n",
              " '__reversed__',\n",
              " '__rmul__',\n",
              " '__setattr__',\n",
              " '__setitem__',\n",
              " '__sizeof__',\n",
              " '__str__',\n",
              " '__subclasshook__',\n",
              " 'append',\n",
              " 'clear',\n",
              " 'copy',\n",
              " 'count',\n",
              " 'extend',\n",
              " 'index',\n",
              " 'insert',\n",
              " 'pop',\n",
              " 'remove',\n",
              " 'reverse',\n",
              " 'sort']"
            ]
          },
          "metadata": {},
          "execution_count": 58
        }
      ]
    },
    {
      "cell_type": "code",
      "source": [
        "i.append(100)\n",
        "i"
      ],
      "metadata": {
        "colab": {
          "base_uri": "https://localhost:8080/"
        },
        "id": "spa47SHUgW_S",
        "outputId": "ab0b952d-4afe-4c27-c680-25286774b9af"
      },
      "execution_count": 59,
      "outputs": [
        {
          "output_type": "execute_result",
          "data": {
            "text/plain": [
              "[10, 20, 30, 100]"
            ]
          },
          "metadata": {},
          "execution_count": 59
        }
      ]
    },
    {
      "cell_type": "code",
      "source": [
        "# 앞에다 넣는 방법1\n",
        "i = [1000] + i\n",
        "\n",
        "x = 10000\n",
        "i = [x] +1[.]"
      ],
      "metadata": {
        "colab": {
          "base_uri": "https://localhost:8080/",
          "height": 148
        },
        "id": "Za8I-NBrhvx1",
        "outputId": "5b4ac045-8011-47f8-e313-24fb7548a6df"
      },
      "execution_count": 60,
      "outputs": [
        {
          "output_type": "error",
          "ename": "SyntaxError",
          "evalue": "invalid syntax (<ipython-input-60-cb365d7d9781>, line 5)",
          "traceback": [
            "\u001b[0;36m  File \u001b[0;32m\"<ipython-input-60-cb365d7d9781>\"\u001b[0;36m, line \u001b[0;32m5\u001b[0m\n\u001b[0;31m    i = [x] +1[.]\u001b[0m\n\u001b[0m               ^\u001b[0m\n\u001b[0;31mSyntaxError\u001b[0m\u001b[0;31m:\u001b[0m invalid syntax\n"
          ]
        }
      ]
    },
    {
      "cell_type": "code",
      "source": [
        "i = [10, 20, 30, 40]\n",
        "i.pop() # 뒤에서 값을 꺼내는 방법\n",
        "i"
      ],
      "metadata": {
        "colab": {
          "base_uri": "https://localhost:8080/"
        },
        "id": "wSWHbWTFkihQ",
        "outputId": "18340e35-61ea-4637-c0dc-9b06e205c9b0"
      },
      "execution_count": 61,
      "outputs": [
        {
          "output_type": "execute_result",
          "data": {
            "text/plain": [
              "[10, 20, 30]"
            ]
          },
          "metadata": {},
          "execution_count": 61
        }
      ]
    },
    {
      "cell_type": "code",
      "source": [
        "i = [10, 20, 30, 40]\n",
        "i.pop(0) #앞에서 값을 꺼내는 방법\n",
        "i"
      ],
      "metadata": {
        "colab": {
          "base_uri": "https://localhost:8080/"
        },
        "id": "xi2BE9zjksdd",
        "outputId": "4569f6f9-c7a7-492c-fed4-8c9794d3f34e"
      },
      "execution_count": 62,
      "outputs": [
        {
          "output_type": "execute_result",
          "data": {
            "text/plain": [
              "[20, 30, 40]"
            ]
          },
          "metadata": {},
          "execution_count": 62
        }
      ]
    },
    {
      "cell_type": "code",
      "source": [
        "i = [10, 20, 30, 40]\n",
        "i[:-1]"
      ],
      "metadata": {
        "colab": {
          "base_uri": "https://localhost:8080/"
        },
        "id": "Li_Ao7Nxk0Ea",
        "outputId": "b960f6ff-f479-4b33-b5a3-58daba558d65"
      },
      "execution_count": 63,
      "outputs": [
        {
          "output_type": "execute_result",
          "data": {
            "text/plain": [
              "[10, 20, 30]"
            ]
          },
          "metadata": {},
          "execution_count": 63
        }
      ]
    },
    {
      "cell_type": "code",
      "source": [
        "i[1:]"
      ],
      "metadata": {
        "colab": {
          "base_uri": "https://localhost:8080/"
        },
        "id": "37rAjXtkk6S4",
        "outputId": "678ac84d-abe4-4447-a575-584af6677670"
      },
      "execution_count": 64,
      "outputs": [
        {
          "output_type": "execute_result",
          "data": {
            "text/plain": [
              "[20, 30, 40]"
            ]
          },
          "metadata": {},
          "execution_count": 64
        }
      ]
    },
    {
      "cell_type": "code",
      "source": [
        "i = [10,20,30,40]\n",
        "i.index(20) #인덱스는 없는 값을 치면 오류가 뜸 find근 그래두 실행됨"
      ],
      "metadata": {
        "colab": {
          "base_uri": "https://localhost:8080/"
        },
        "id": "LrYCtzfok79q",
        "outputId": "74ebbfe9-545b-4929-c4a3-003fe0aa7b62"
      },
      "execution_count": 65,
      "outputs": [
        {
          "output_type": "execute_result",
          "data": {
            "text/plain": [
              "1"
            ]
          },
          "metadata": {},
          "execution_count": 65
        }
      ]
    },
    {
      "cell_type": "code",
      "source": [
        "i = [10,20,30,40]\n",
        "i.clear()\n",
        "i"
      ],
      "metadata": {
        "colab": {
          "base_uri": "https://localhost:8080/"
        },
        "id": "3jLY0YpdlFBy",
        "outputId": "fda96d3d-1645-4b0d-d9c4-faa04a78b4b3"
      },
      "execution_count": 66,
      "outputs": [
        {
          "output_type": "execute_result",
          "data": {
            "text/plain": [
              "[]"
            ]
          },
          "metadata": {},
          "execution_count": 66
        }
      ]
    },
    {
      "cell_type": "code",
      "source": [
        "i = [10,20,30,40]\n",
        "ii = i\n",
        "i[0] = 1000\n",
        "ii\n"
      ],
      "metadata": {
        "colab": {
          "base_uri": "https://localhost:8080/"
        },
        "id": "Xt9Ltoxfl3fI",
        "outputId": "6ab55bae-6912-4197-db75-6ddfa79ba89c"
      },
      "execution_count": 68,
      "outputs": [
        {
          "output_type": "execute_result",
          "data": {
            "text/plain": [
              "[1000, 20, 30, 40]"
            ]
          },
          "metadata": {},
          "execution_count": 68
        }
      ]
    },
    {
      "cell_type": "code",
      "source": [
        "i = [10,20,30,40]\n",
        "ii = i.copy()\n",
        "\n",
        "i[0] = 1000\n",
        "ii\n",
        "\n",
        "id(i), id(ii)\n",
        "i is ii"
      ],
      "metadata": {
        "colab": {
          "base_uri": "https://localhost:8080/"
        },
        "id": "F7DF6iq0l-VC",
        "outputId": "0da43f28-a0e3-48d8-ad6e-dd6a558f7777"
      },
      "execution_count": 69,
      "outputs": [
        {
          "output_type": "execute_result",
          "data": {
            "text/plain": [
              "False"
            ]
          },
          "metadata": {},
          "execution_count": 69
        }
      ]
    },
    {
      "cell_type": "code",
      "source": [
        "ii = i[:]\n",
        "\n",
        "i[0] = 1000\n",
        "i, ii"
      ],
      "metadata": {
        "colab": {
          "base_uri": "https://localhost:8080/"
        },
        "id": "ICl26hi7mldH",
        "outputId": "505bc1e0-f3a5-4de6-f8af-bade2331647a"
      },
      "execution_count": 70,
      "outputs": [
        {
          "output_type": "execute_result",
          "data": {
            "text/plain": [
              "([1000, 20, 30, 40], [1000, 20, 30, 40])"
            ]
          },
          "metadata": {},
          "execution_count": 70
        }
      ]
    },
    {
      "cell_type": "code",
      "source": [
        "i = ['1', '1', 1,2,2,2,2,3,3,]\n",
        "i.count(1)"
      ],
      "metadata": {
        "colab": {
          "base_uri": "https://localhost:8080/"
        },
        "id": "DuymoFzDnDdK",
        "outputId": "6e84d916-f9cb-451b-9230-a268f3ba6558"
      },
      "execution_count": 71,
      "outputs": [
        {
          "output_type": "execute_result",
          "data": {
            "text/plain": [
              "1"
            ]
          },
          "metadata": {},
          "execution_count": 71
        }
      ]
    },
    {
      "cell_type": "code",
      "source": [
        "# 분위기 환기차 해드리는 것입니다.\n",
        "# 이해하지 못하셔도 괜찮습니다.\n",
        "# https://codingdojang.com/scode/393?answer_mode=hide\n",
        "str([1, 2, 3, 4, 5, 6, 7, 8, 9, 10, 11, 12, 13, 14, 15]).count('1')\n",
        "# str(1부터_10000까지_리스트).count('8')\n",
        "list(range(10))\n",
        "str(list(range(20)))\n",
        "str(list(range(20))).count('8')"
      ],
      "metadata": {
        "colab": {
          "base_uri": "https://localhost:8080/"
        },
        "id": "ftHMVJ8GoXxB",
        "outputId": "c145559d-81b1-4cf9-ed67-479c5487aa22"
      },
      "execution_count": 75,
      "outputs": [
        {
          "output_type": "execute_result",
          "data": {
            "text/plain": [
              "2"
            ]
          },
          "metadata": {},
          "execution_count": 75
        }
      ]
    },
    {
      "cell_type": "code",
      "source": [
        "str(list(range(1000))).count('8')"
      ],
      "metadata": {
        "colab": {
          "base_uri": "https://localhost:8080/"
        },
        "id": "QOFZyaucoeIt",
        "outputId": "5dbec394-cba4-4808-def4-20dcb0de16ba"
      },
      "execution_count": 74,
      "outputs": [
        {
          "output_type": "execute_result",
          "data": {
            "text/plain": [
              "300"
            ]
          },
          "metadata": {},
          "execution_count": 74
        }
      ]
    },
    {
      "cell_type": "code",
      "source": [
        "i = [10, 20, 30, 40]\n",
        "i.extend([50,60])\n",
        "i"
      ],
      "metadata": {
        "colab": {
          "base_uri": "https://localhost:8080/"
        },
        "id": "gBPsk55IokOs",
        "outputId": "1090ed67-342d-4c73-ce8b-af0a6ca41161"
      },
      "execution_count": 76,
      "outputs": [
        {
          "output_type": "execute_result",
          "data": {
            "text/plain": [
              "[10, 20, 30, 40, 50, 60]"
            ]
          },
          "metadata": {},
          "execution_count": 76
        }
      ]
    },
    {
      "cell_type": "code",
      "source": [
        "i=[10,20,30,40]\n",
        "i.extend('hello') #extend(보통리스트), extend(순회가능한객체)\n",
        "i"
      ],
      "metadata": {
        "colab": {
          "base_uri": "https://localhost:8080/"
        },
        "id": "5LqEQ__mpNHs",
        "outputId": "edaf11b0-c060-4150-c853-ca8977174289"
      },
      "execution_count": 77,
      "outputs": [
        {
          "output_type": "execute_result",
          "data": {
            "text/plain": [
              "[10, 20, 30, 40, 'h', 'e', 'l', 'l', 'o']"
            ]
          },
          "metadata": {},
          "execution_count": 77
        }
      ]
    },
    {
      "cell_type": "code",
      "source": [
        "i = [1, 1, 1, 1, 2, 2, 3, 3, 3]\n",
        "i.remove(1) #가장 첫번째 요소 삭제\n",
        "i"
      ],
      "metadata": {
        "colab": {
          "base_uri": "https://localhost:8080/"
        },
        "id": "5_v9MsVtpYLU",
        "outputId": "131060d1-fccc-4057-81bf-db33957ffc8b"
      },
      "execution_count": 78,
      "outputs": [
        {
          "output_type": "execute_result",
          "data": {
            "text/plain": [
              "[1, 1, 1, 2, 2, 3, 3, 3]"
            ]
          },
          "metadata": {},
          "execution_count": 78
        }
      ]
    },
    {
      "cell_type": "code",
      "source": [
        "# 여기서 캐취 해야할 포인트는 모든 요소를 fillering하고 싶을때에는\n",
        "# remove가 아니라 filter라는 것을 사용한다!\n",
        "def f(x):\n",
        "    return x !=1\n",
        "\n",
        "i = [1, 1, 1, 1, 2, 2, 3, 3, 3]\n",
        "list(filter(f, i))"
      ],
      "metadata": {
        "colab": {
          "base_uri": "https://localhost:8080/"
        },
        "id": "qWvRMrE7p7IU",
        "outputId": "594552a7-1026-415f-883a-a677c00b3d6b"
      },
      "execution_count": 82,
      "outputs": [
        {
          "output_type": "execute_result",
          "data": {
            "text/plain": [
              "[2, 2, 3, 3, 3]"
            ]
          },
          "metadata": {},
          "execution_count": 82
        }
      ]
    },
    {
      "cell_type": "code",
      "source": [
        "i = [1, 2, 3, 4, 5, 9, 5, 6, 7, 8]\n",
        "i.reverse() #역정렬은 아님 #원본이 변함(입력된 원본은 대부분 보존하려고 노력)\n",
        "i"
      ],
      "metadata": {
        "colab": {
          "base_uri": "https://localhost:8080/"
        },
        "id": "YxAwXyXxqngj",
        "outputId": "9f6255e9-12f6-4286-e1be-71fa4343e671"
      },
      "execution_count": 84,
      "outputs": [
        {
          "output_type": "execute_result",
          "data": {
            "text/plain": [
              "[8, 7, 6, 5, 9, 5, 4, 3, 2, 1]"
            ]
          },
          "metadata": {},
          "execution_count": 84
        }
      ]
    },
    {
      "cell_type": "code",
      "source": [
        "i = [1, 2, 3, 4, 5, 9, 5, 6, 7, 8]\n",
        "list(reversed(i))  # reversrd는 원본을 변경하지 않음"
      ],
      "metadata": {
        "colab": {
          "base_uri": "https://localhost:8080/"
        },
        "id": "c6mE7fD7rPex",
        "outputId": "d73b8434-2eea-4ca6-d4f2-09739c01bff8"
      },
      "execution_count": 87,
      "outputs": [
        {
          "output_type": "execute_result",
          "data": {
            "text/plain": [
              "[8, 7, 6, 5, 9, 5, 4, 3, 2, 1]"
            ]
          },
          "metadata": {},
          "execution_count": 87
        }
      ]
    },
    {
      "cell_type": "code",
      "source": [
        "i = [1, 2, 3, 4, 5, 9, 5, 6, 7, 8]\n",
        "i.sort() #원본을 바꾸는 정령\n",
        "i"
      ],
      "metadata": {
        "colab": {
          "base_uri": "https://localhost:8080/"
        },
        "id": "37HmoLB1rxUS",
        "outputId": "d18129dd-a2fc-42b5-8960-6cdb44cde07f"
      },
      "execution_count": 88,
      "outputs": [
        {
          "output_type": "execute_result",
          "data": {
            "text/plain": [
              "[1, 2, 3, 4, 5, 5, 6, 7, 8, 9]"
            ]
          },
          "metadata": {},
          "execution_count": 88
        }
      ]
    },
    {
      "cell_type": "code",
      "source": [
        "i = [1, 2, 3, 4, 5, 9, 5, 6, 7, 8]\n",
        "i.sort() #원본을 바꾸는 정령\n",
        "i.reverse() #\n",
        "i"
      ],
      "metadata": {
        "colab": {
          "base_uri": "https://localhost:8080/"
        },
        "id": "W2evThqXs8Jg",
        "outputId": "8b5de1a8-7759-44fb-c99b-f1f8f7500b11"
      },
      "execution_count": 89,
      "outputs": [
        {
          "output_type": "execute_result",
          "data": {
            "text/plain": [
              "[9, 8, 7, 6, 5, 5, 4, 3, 2, 1]"
            ]
          },
          "metadata": {},
          "execution_count": 89
        }
      ]
    },
    {
      "cell_type": "code",
      "source": [
        "i = [1, 2, 3, 4, 5, 9, 5, 6, 7, 8]\n",
        "sorted(i) # sorted 원보늘 변경하지 않습니다"
      ],
      "metadata": {
        "colab": {
          "base_uri": "https://localhost:8080/"
        },
        "id": "V1lpErG2tCc_",
        "outputId": "bbd78900-3b15-4aaf-aaf9-7ec9400ba481"
      },
      "execution_count": 90,
      "outputs": [
        {
          "output_type": "execute_result",
          "data": {
            "text/plain": [
              "[1, 2, 3, 4, 5, 5, 6, 7, 8, 9]"
            ]
          },
          "metadata": {},
          "execution_count": 90
        }
      ]
    },
    {
      "cell_type": "code",
      "source": [
        "# sort, sorted, reverse, reversed 알고리즘 문제에서도 1개 문제느늑 ㅓ의 나온다고 보면됩\n",
        "#옵션 값은 하지 않는다\n",
        "#옵션 값을 하지않은 이유 : 함수까지 배워야 더 고급 문법이 가능"
      ],
      "metadata": {
        "id": "JshbweE6tLG2"
      },
      "execution_count": null,
      "outputs": []
    },
    {
      "cell_type": "code",
      "source": [
        "# 어떻게 사용되는지만 체크! (뒤에서 다시 하겠습니다.)\n",
        "# 국어 점수가 가장 높은 순으로 정렬해주세요.\n",
        "# 국, 영, 수, 이름\n",
        "s = [[100, 87, 91, '이호준'], [56, 38, 89, '이준호'], [33, 86, 100, '홍길동']]\n",
        "\n",
        "def f(x):\n",
        "    return x[0]\n",
        "\n",
        "sorted(s, key=f)\n",
        "sorted(s, key=f, reverse=True)"
      ],
      "metadata": {
        "id": "E9k9YpZdv3eH"
      },
      "execution_count": null,
      "outputs": []
    },
    {
      "cell_type": "code",
      "source": [
        "# 평균 점수가 가장 높은 순으로 정렬해주세요.\n",
        "s = [[100, 87, 91, '이호준'], [56, 38, 89, '이준호'], [33, 86, 100, '홍길동']]\n",
        "\n",
        "def f(x):\n",
        "    return x[0] + x[1] + x[2]\n",
        "\n",
        "sorted(s, key=f)\n",
        "sorted(s, key=f, reverse=True)"
      ],
      "metadata": {
        "id": "BrXsUzRav1MX"
      },
      "execution_count": null,
      "outputs": []
    }
  ]
}