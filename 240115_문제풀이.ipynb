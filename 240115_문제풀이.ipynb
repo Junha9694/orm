{
  "nbformat": 4,
  "nbformat_minor": 0,
  "metadata": {
    "colab": {
      "provenance": [],
      "authorship_tag": "ABX9TyNrarqYNpn5eglx14Eob9Ep",
      "include_colab_link": true
    },
    "kernelspec": {
      "name": "python3",
      "display_name": "Python 3"
    },
    "language_info": {
      "name": "python"
    }
  },
  "cells": [
    {
      "cell_type": "markdown",
      "metadata": {
        "id": "view-in-github",
        "colab_type": "text"
      },
      "source": [
        "<a href=\"https://colab.research.google.com/github/Junha9694/orm/blob/main/240115_%EB%AC%B8%EC%A0%9C%ED%92%80%EC%9D%B4.ipynb\" target=\"_parent\"><img src=\"https://colab.research.google.com/assets/colab-badge.svg\" alt=\"Open In Colab\"/></a>"
      ]
    },
    {
      "cell_type": "code",
      "execution_count": null,
      "metadata": {
        "id": "w7yOfQzaGQ6R"
      },
      "outputs": [],
      "source": [
        "`class Commnet`를 작성해주세요.\n",
        "\n",
        "요구사항\n",
        "* 각 댓글은 고유한 ID, 작성자 이름, 댓글 내용, 작성 시간을 가져야 합니다.\n",
        "* 댓글은 하나 이상의 대댓글을 가질 수 있어야 합니다.\n",
        "* 대댓글도 Comment 클래스의 인스턴스로 생성되며, 원 댓글에 종속됩니다.\n",
        "* 시간은 '년-월-일 시:분' 형식으로 표시되어야 합니다.\n",
        "* (선택 과제) 댓글 출력 기능 - 계층적 출력을 해보세요.\n",
        "* (선택 과제)댓글에 대한 좋아요 기능을 추가할 수 있습니다."
      ]
    },
    {
      "cell_type": "code",
      "source": [
        "from datetime import datetime\n",
        "\n",
        "class Comment:\n",
        "    def __init__(self, comment_id, author, content, parent=None, timestamp=None):\n",
        "        self.comment_id = comment_id\n",
        "        self.author = author\n",
        "        self.content = content\n",
        "        self.parent = parent\n",
        "        self.timestamp = timestamp or datetime.now()\n",
        "\n",
        "        self.replies = []  # 대댓글을 저장할 리스트\n",
        "\n",
        "    def add_reply(self, reply):\n",
        "        self.replies.append(reply)\n",
        "\n",
        "    def display(self, depth=0):\n",
        "        blank = \"  \" * depth # 주 댓글 공백을 띄워주는 출력기능\n",
        "        print(f\"{blank}ID: {self.comment_id}\")\n",
        "        print(f\"{blank}Author: {self.author}\")\n",
        "        print(f\"{blank}Content: {self.content}\")\n",
        "        print(f\"{blank}Timestamp: {self.timestamp.strftime('%Y-%m-%d %H:%M')}\")\n",
        "\n",
        "        for reply in self.replies:\n",
        "            reply.display(depth + 1)\n",
        "\n",
        "# 예제 사용:\n",
        "if __name__ == \"__main__\":\n",
        "    # 루트 댓글 생성\n",
        "    root_comment = Comment(1, \"기준하\", \"이것은 주 댓글입니다.\")\n",
        "\n",
        "    # 루트 댓글에 대댓글 추가\n",
        "    reply1 = Comment(2, \"홍길동\", \"주 댓글에 대한 첫 번째 대댓글입니다.\", parent=root_comment)\n",
        "    root_comment.add_reply(reply1)\n",
        "\n",
        "    reply2 = Comment(3, \"이순신\", \"주 댓글에 대한 두 번째 대댓글입니다.\", parent=root_comment)\n",
        "    root_comment.add_reply(reply2)\n",
        "\n",
        "    # 대댓글에 대한 댓글 추가\n",
        "    reply3 = Comment(4, \"세종\", \"첫 번째 대댓글에 대한 댓글입니다.\", parent=reply1)\n",
        "    reply1.add_reply(reply3)\n",
        "\n",
        "    # 댓글을 계층적으로 출력\n",
        "    root_comment.display()\n"
      ],
      "metadata": {
        "colab": {
          "base_uri": "https://localhost:8080/"
        },
        "id": "CRqAj9-DGSi7",
        "outputId": "fb81bdfa-32f8-401b-98fa-3f52b5c3bef8"
      },
      "execution_count": 16,
      "outputs": [
        {
          "output_type": "stream",
          "name": "stdout",
          "text": [
            "ID: 1\n",
            "Author: 기준하\n",
            "Content: 이것은 주 댓글입니다.\n",
            "Timestamp: 2024-01-15 08:43\n",
            "  ID: 2\n",
            "  Author: 홍길동\n",
            "  Content: 주 댓글에 대한 첫 번째 대댓글입니다.\n",
            "  Timestamp: 2024-01-15 08:43\n",
            "    ID: 4\n",
            "    Author: 세종\n",
            "    Content: 첫 번째 대댓글에 대한 댓글입니다.\n",
            "    Timestamp: 2024-01-15 08:43\n",
            "  ID: 3\n",
            "  Author: 이순신\n",
            "  Content: 주 댓글에 대한 두 번째 대댓글입니다.\n",
            "  Timestamp: 2024-01-15 08:43\n"
          ]
        }
      ]
    },
    {
      "cell_type": "code",
      "source": [
        "from datetime import datetime\n",
        "\n",
        "class Comment:\n",
        "    def __init__(self, name, author, content, parent=None, timestamp=None):\n",
        "        self.name = name\n",
        "        self.author = author\n",
        "        self.content = content\n",
        "        self.parent = parent\n",
        "        self.timestamp = timestamp or datetime.now()\n",
        "\n",
        "        self.commentlist = []  # 대댓글을 저장할 리스트\n",
        "\n",
        "    def add_reply(self, reply):\n",
        "        self.commentlist.append(reply)\n",
        "        self.timestamp = datetime.now().strftime('%Y-%m-%d %H:%M')\n",
        "\n",
        "    def display_profile(self):\n",
        "        print(f'name: {self.name}')\n",
        "        print(f'author: {self.author}')\n",
        "        print(f'Content: {self.content}')\n",
        "        print(f'timestamp: {self.timestamp}')\n",
        "\n",
        "        for reply in self.commentlist:\n",
        "            reply.display_profile()\n",
        "\n",
        "# 예제 사용:\n",
        "if __name__ == \"__main__\":\n",
        "    # 루트 댓글 생성\n",
        "    root_comment = Comment(1, \"사용자1\", \"이것은 주 댓글입니다.\")\n",
        "\n",
        "    # 루트 댓글에 대댓글 추가\n",
        "    reply1 = Comment(2, \"사용자2\", \"주 댓글에 대한 첫 번째 대댓글입니다.\", parent=root_comment)\n",
        "    root_comment.add_reply(reply1)\n",
        "\n",
        "    reply2 = Comment(3, \"사용자3\", \"주 댓글에 대한 두 번째 대댓글입니다.\", parent=root_comment)\n",
        "    root_comment.add_reply(reply2)\n",
        "\n",
        "    # 대댓글에 대한 댓글 추가\n",
        "    reply3 = Comment(4, \"사용자4\", \"첫 번째 대댓글에 대한 댓글입니다.\", parent=reply1)\n",
        "    reply1.add_reply(reply3)\n",
        "\n",
        "    # 댓글을 계층적으로 출력\n",
        "    root_comment.display_profile()\n"
      ],
      "metadata": {
        "colab": {
          "base_uri": "https://localhost:8080/"
        },
        "id": "7kLnatLPHFIO",
        "outputId": "f426679d-3101-45b2-e0d2-557f7041f635"
      },
      "execution_count": 13,
      "outputs": [
        {
          "output_type": "stream",
          "name": "stdout",
          "text": [
            "name: 1\n",
            "author: 사용자1\n",
            "Content: 이것은 주 댓글입니다.\n",
            "timestamp: 2024-01-15 08:23\n",
            "name: 2\n",
            "author: 사용자2\n",
            "Content: 주 댓글에 대한 첫 번째 대댓글입니다.\n",
            "timestamp: 2024-01-15 08:23\n",
            "name: 4\n",
            "author: 사용자4\n",
            "Content: 첫 번째 대댓글에 대한 댓글입니다.\n",
            "timestamp: 2024-01-15 08:23:58.910266\n",
            "name: 3\n",
            "author: 사용자3\n",
            "Content: 주 댓글에 대한 두 번째 대댓글입니다.\n",
            "timestamp: 2024-01-15 08:23:58.910261\n"
          ]
        }
      ]
    },
    {
      "cell_type": "code",
      "source": [],
      "metadata": {
        "id": "BXMkIkKFOpQs"
      },
      "execution_count": null,
      "outputs": []
    }
  ]
}