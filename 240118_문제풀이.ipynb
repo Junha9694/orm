{
  "nbformat": 4,
  "nbformat_minor": 0,
  "metadata": {
    "colab": {
      "provenance": [],
      "authorship_tag": "ABX9TyM8YE53Qg/GFje63KYM8v61",
      "include_colab_link": true
    },
    "kernelspec": {
      "name": "python3",
      "display_name": "Python 3"
    },
    "language_info": {
      "name": "python"
    }
  },
  "cells": [
    {
      "cell_type": "markdown",
      "metadata": {
        "id": "view-in-github",
        "colab_type": "text"
      },
      "source": [
        "<a href=\"https://colab.research.google.com/github/Junha9694/orm/blob/main/240118_%EB%AC%B8%EC%A0%9C%ED%92%80%EC%9D%B4.ipynb\" target=\"_parent\"><img src=\"https://colab.research.google.com/assets/colab-badge.svg\" alt=\"Open In Colab\"/></a>"
      ]
    },
    {
      "cell_type": "code",
      "execution_count": null,
      "metadata": {
        "id": "NiJ8WKjMfQ1O"
      },
      "outputs": [],
      "source": [
        "문제 1: 이메일 주소 변경하기 (sub 사용)\n",
        "문제: 주어진 문자열에서 모든 이메일 주소를 user@weniv.co.kr으로 변경하시오.\n",
        "\n",
        "예시 입력: \"저의 이메일 주소는 kim123@gmail.com입니다. 친구의 이메일 주소는 lee456@gmail.com입니다.\"\n",
        "예시 출력: \"저의 이메일 주소는 user@weniv.co.kr입니다. 친구의 이메일 주소는 user@weniv.co.kr입니다.\"\n",
        "\n",
        "힌트: 이메일 주소를 찾기 위한 정규표현식은 \\b[A-Za-z0-9._%+-]+@[A-Za-z0-9.-]+\\.[A-Z|a-z]{2,}\\b를 사용할 수 있습니다.\n",
        "\n",
        "\n",
        "문제 2: HTML 태그 제거하기 (sub 사용)\n",
        "문제: 주어진 HTML 문자열에서 모든 HTML 태그를 제거하고 텍스트만 남기시오.\n",
        "\n",
        "예시 입력: \"<p>이것은 <b>예시</b> 문장입니다.</p>\"\n",
        "예시 출력: \"이것은 예시 문장입니다.\"\n",
        "\n",
        "힌트: HTML 태그를 찾기 위한 정규표현식은 <[^>]+>를 사용할 수 있습니다."
      ]
    },
    {
      "cell_type": "code",
      "source": [
        "import re\n",
        "\n",
        "def change_email(email):\n",
        "    # 정규 표현식을 사용하여 이메일 도메인 변경\n",
        "    new_email = re.sub(r'@[A-Za-z0-9.-]+\\.[A-Z|a-z]{2,}\\b', '@weniv.co.kr', email)\n",
        "\n",
        "    return new_email\n",
        "\n",
        "# 사용자로부터 이메일을 입력 받습니다.\n",
        "input_email = input(\"자신의 이메일을 입력하세요: \")\n",
        "input_email2 = input(\"친구 이메일을 입력하세요: \")\n",
        "\n",
        "# 이메일 도메인을 변경합니다.\n",
        "new_email = change_email(input_email)\n",
        "new_email2 = change_email(input_email2)\n",
        "\n",
        "# 변경된 이메일을 출력합니다.\n",
        "print(f\"저의 이메일 주소는 {new_email}입니다. 친구의 이메일 주소는 {new_email2}입니다.\")\n",
        "\n"
      ],
      "metadata": {
        "colab": {
          "base_uri": "https://localhost:8080/"
        },
        "id": "igAtEOQmqjil",
        "outputId": "2065212b-26fa-4c86-b85c-be67a2421aa7"
      },
      "execution_count": 42,
      "outputs": [
        {
          "output_type": "stream",
          "name": "stdout",
          "text": [
            "자신의 이메일을 입력하세요: junha9694@gmail.com\n",
            "친구 이메일을 입력하세요: kbs911@gsdlsdo.com\n",
            "저의 이메일 주소는 junha9694@weniv.co.kr입니다. 친구의 이메일 주소는 kbs911@weniv.co.kr입니다.\n"
          ]
        }
      ]
    },
    {
      "cell_type": "code",
      "source": [
        "import re\n",
        "\n",
        "# 예시 입력\n",
        "html_input = \"<p>이것은 <b>예시</b> 문장입니다.</p>\"\n",
        "text_output = re.sub(r'<[^>]+>', '', html_input)\n",
        "\n",
        "# 결과 출력\n",
        "print(\"입력 HTML:\", html_input)\n",
        "print(\"제거된 텍스트:\", text_output)\n"
      ],
      "metadata": {
        "colab": {
          "base_uri": "https://localhost:8080/"
        },
        "id": "KyEOCuOjq1UM",
        "outputId": "f293856c-3306-4f6a-84f3-d13f76c4fdd8"
      },
      "execution_count": 41,
      "outputs": [
        {
          "output_type": "stream",
          "name": "stdout",
          "text": [
            "입력 HTML: <p>이것은 <b>예시</b> 문장입니다.</p>\n",
            "제거된 텍스트: 이것은 예시 문장입니다.\n"
          ]
        }
      ]
    },
    {
      "cell_type": "code",
      "source": [],
      "metadata": {
        "id": "0iMFpeFTrpqR"
      },
      "execution_count": null,
      "outputs": []
    }
  ]
}