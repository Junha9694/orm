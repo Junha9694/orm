{
  "nbformat": 4,
  "nbformat_minor": 0,
  "metadata": {
    "colab": {
      "provenance": [],
      "authorship_tag": "ABX9TyP7y9Q7ckEB42FrAlYJM4Sa",
      "include_colab_link": true
    },
    "kernelspec": {
      "name": "python3",
      "display_name": "Python 3"
    },
    "language_info": {
      "name": "python"
    }
  },
  "cells": [
    {
      "cell_type": "markdown",
      "metadata": {
        "id": "view-in-github",
        "colab_type": "text"
      },
      "source": [
        "<a href=\"https://colab.research.google.com/github/Junha9694/orm/blob/main/240104_%EC%8B%9C%ED%80%80%EC%8A%A4%EC%9E%90%EB%A3%8C%ED%98%95.ipynb\" target=\"_parent\"><img src=\"https://colab.research.google.com/assets/colab-badge.svg\" alt=\"Open In Colab\"/></a>"
      ]
    },
    {
      "cell_type": "markdown",
      "source": [
        "# 1. 시퀀스 자료형\n"
      ],
      "metadata": {
        "id": "X3OAIlUY7WmC"
      }
    },
    {
      "cell_type": "code",
      "execution_count": null,
      "metadata": {
        "colab": {
          "base_uri": "https://localhost:8080/"
        },
        "id": "LwLI5hGN7Tiw",
        "outputId": "b18f2433-d2fc-4f63-e4ef-9ee96fdd6913"
      },
      "outputs": [
        {
          "output_type": "stream",
          "name": "stdout",
          "text": [
            "a\n",
            "d\n",
            "e\n"
          ]
        }
      ],
      "source": [
        "#1.1 인덱싱\n",
        "#(-) 54321\n",
        "#    01234\n",
        "example = 'abcde'\n",
        "print(example[0])\n",
        "print(example[3])\n",
        "print(example[4])"
      ]
    },
    {
      "cell_type": "code",
      "source": [
        "print(example[1:3])\n",
        "print(example[-4:-1])"
      ],
      "metadata": {
        "colab": {
          "base_uri": "https://localhost:8080/"
        },
        "id": "d-UpvcqE7elf",
        "outputId": "05fab072-342d-4b35-f788-d30752bd36d9"
      },
      "execution_count": null,
      "outputs": [
        {
          "output_type": "stream",
          "name": "stdout",
          "text": [
            "bc\n",
            "bcd\n"
          ]
        }
      ]
    },
    {
      "cell_type": "code",
      "source": [
        "range(10)[3]\n",
        "range(100)[::5]"
      ],
      "metadata": {
        "colab": {
          "base_uri": "https://localhost:8080/"
        },
        "id": "q1WUe3Jw7z7C",
        "outputId": "b342fa5c-cc92-49ef-996e-a809b54641c0"
      },
      "execution_count": null,
      "outputs": [
        {
          "output_type": "execute_result",
          "data": {
            "text/plain": [
              "range(0, 100, 5)"
            ]
          },
          "metadata": {},
          "execution_count": 10
        }
      ]
    },
    {
      "cell_type": "code",
      "source": [
        "exapmle = 'abcde'\n",
        "print('a'in example)"
      ],
      "metadata": {
        "colab": {
          "base_uri": "https://localhost:8080/"
        },
        "id": "plEQkGtG74iU",
        "outputId": "fc9d2b35-1b2e-49ac-fa27-4d3ead40ea55"
      },
      "execution_count": null,
      "outputs": [
        {
          "output_type": "stream",
          "name": "stdout",
          "text": [
            "True\n"
          ]
        }
      ]
    },
    {
      "cell_type": "code",
      "source": [
        "exapmle1 = 'abcde'\n",
        "exapmle2 = 'f'\n",
        "print(exapmle1 + exapmle2)\n",
        "print(exapmle2 * 3)"
      ],
      "metadata": {
        "colab": {
          "base_uri": "https://localhost:8080/"
        },
        "id": "w4dJC_Hm8qlg",
        "outputId": "4d82dad8-6a56-4148-e83a-090727fd5b54"
      },
      "execution_count": null,
      "outputs": [
        {
          "output_type": "stream",
          "name": "stdout",
          "text": [
            "abcdef\n",
            "fff\n"
          ]
        }
      ]
    },
    {
      "cell_type": "code",
      "source": [
        "print(len(example))\n",
        "print(min(example))"
      ],
      "metadata": {
        "colab": {
          "base_uri": "https://localhost:8080/"
        },
        "id": "GtYpe32m9cMb",
        "outputId": "97a4a740-5fcd-45d8-ade8-9d57e6688422"
      },
      "execution_count": null,
      "outputs": [
        {
          "output_type": "stream",
          "name": "stdout",
          "text": [
            "5\n",
            "a\n"
          ]
        }
      ]
    },
    {
      "cell_type": "code",
      "source": [
        "# 다양한 패킹 / 언패킹\n",
        "a,b,c = range(3)\n",
        "print(range(3))\n",
        "print(a,b,c)"
      ],
      "metadata": {
        "colab": {
          "base_uri": "https://localhost:8080/"
        },
        "id": "bRV6CxXm9kgZ",
        "outputId": "25511632-cdcf-41a3-8a8f-225484ae1613"
      },
      "execution_count": null,
      "outputs": [
        {
          "output_type": "stream",
          "name": "stdout",
          "text": [
            "range(0, 3)\n",
            "0 1 2\n"
          ]
        }
      ]
    },
    {
      "cell_type": "code",
      "source": [
        "a,b,c,d,e = 'hello'\n",
        "print(a)\n",
        "print(b)\n",
        "print(c)\n",
        "print(d)\n",
        "print(e)"
      ],
      "metadata": {
        "colab": {
          "base_uri": "https://localhost:8080/"
        },
        "id": "SMD_fjMB_aqc",
        "outputId": "b1ef596c-60b2-403a-9bcf-ba088c0ecea5"
      },
      "execution_count": null,
      "outputs": [
        {
          "output_type": "stream",
          "name": "stdout",
          "text": [
            "h\n",
            "e\n",
            "l\n",
            "l\n",
            "o\n"
          ]
        }
      ]
    },
    {
      "cell_type": "code",
      "source": [
        "total_sum = 0\n",
        "for i in range(5):\n",
        "    total_sum += i\n",
        "    print(total_sum)\n",
        "print(total_sum)"
      ],
      "metadata": {
        "colab": {
          "base_uri": "https://localhost:8080/"
        },
        "id": "uRqHoZxt_vAF",
        "outputId": "beb36c8c-de46-4f25-fa9f-5437a9fa1048"
      },
      "execution_count": null,
      "outputs": [
        {
          "output_type": "stream",
          "name": "stdout",
          "text": [
            "0\n",
            "1\n",
            "3\n",
            "6\n",
            "10\n",
            "10\n"
          ]
        }
      ]
    },
    {
      "cell_type": "code",
      "source": [
        "first, *middle, last = [1,2,3,4,5]\n",
        "print(first)\n",
        "print(middle)\n",
        "print(last)"
      ],
      "metadata": {
        "colab": {
          "base_uri": "https://localhost:8080/"
        },
        "id": "xcaTKNAbAWR_",
        "outputId": "3d965756-90e5-4c85-e3dc-a141dbfb5f0b"
      },
      "execution_count": null,
      "outputs": [
        {
          "output_type": "stream",
          "name": "stdout",
          "text": [
            "1\n",
            "[2, 3, 4]\n",
            "5\n"
          ]
        }
      ]
    },
    {
      "cell_type": "code",
      "source": [
        "first, *middle = [1,2,3,4,5]\n",
        "print(first)\n",
        "print(middle)\n",
        "print(last)"
      ],
      "metadata": {
        "colab": {
          "base_uri": "https://localhost:8080/"
        },
        "id": "0Ebrca1tA9WC",
        "outputId": "d2917fde-b8c8-4da2-c239-c99254deb8e3"
      },
      "execution_count": null,
      "outputs": [
        {
          "output_type": "stream",
          "name": "stdout",
          "text": [
            "1\n",
            "[2, 3, 4, 5]\n",
            "5\n"
          ]
        }
      ]
    },
    {
      "cell_type": "code",
      "source": [
        "# 2.2 리스트 값 수정\n",
        "a = [1,2,3,4,5]\n",
        "a[0] = 10000\n",
        "print(a)"
      ],
      "metadata": {
        "id": "gZ3icIV-BF41",
        "colab": {
          "base_uri": "https://localhost:8080/"
        },
        "outputId": "f3187060-c98b-45cf-c383-6be67dfae937"
      },
      "execution_count": 23,
      "outputs": [
        {
          "output_type": "stream",
          "name": "stdout",
          "text": [
            "[10000, 2, 3, 4, 5]\n"
          ]
        }
      ]
    },
    {
      "cell_type": "code",
      "source": [
        "b = [ [10,20,30],[1,2,3]]\n",
        "b[1][2]"
      ],
      "metadata": {
        "colab": {
          "base_uri": "https://localhost:8080/"
        },
        "id": "s1TwCPJ6G_yz",
        "outputId": "568b4d79-c03d-47cd-fb02-8e7569da5d77"
      },
      "execution_count": 24,
      "outputs": [
        {
          "output_type": "execute_result",
          "data": {
            "text/plain": [
              "3"
            ]
          },
          "metadata": {},
          "execution_count": 24
        }
      ]
    },
    {
      "cell_type": "code",
      "source": [
        "l = [1,2,3,4,5]\n",
        "print(l[:]) #[1, 2, 3, 4, 5]\n",
        "print(l[::-1]) #[5, 4, 3, 2, 1]\n",
        "print(l[::2]) #[1, 3, 5]\n",
        "print(l[0:4]) #[1, 2, 3, 4]"
      ],
      "metadata": {
        "colab": {
          "base_uri": "https://localhost:8080/"
        },
        "id": "kpnp5I9SImGr",
        "outputId": "cd9cd12e-eefb-44ee-9d47-707dd9de6708"
      },
      "execution_count": 28,
      "outputs": [
        {
          "output_type": "stream",
          "name": "stdout",
          "text": [
            "[1, 2, 3, 4, 5]\n",
            "[5, 4, 3, 2, 1]\n",
            "[1, 3, 5]\n",
            "[1, 2, 3, 4]\n"
          ]
        }
      ]
    },
    {
      "cell_type": "code",
      "source": [
        "print(l[0:4][::-1]) #[4, 3, 2, 1]"
      ],
      "metadata": {
        "colab": {
          "base_uri": "https://localhost:8080/"
        },
        "id": "eWF_ge7JKzhF",
        "outputId": "2147f25a-b44c-4f03-e04e-dc6c36ad9bc3"
      },
      "execution_count": 27,
      "outputs": [
        {
          "output_type": "stream",
          "name": "stdout",
          "text": [
            "[4, 3, 2, 1]\n"
          ]
        }
      ]
    },
    {
      "cell_type": "code",
      "source": [],
      "metadata": {
        "id": "oY59EMBqaFkG"
      },
      "execution_count": null,
      "outputs": []
    },
    {
      "cell_type": "code",
      "source": [],
      "metadata": {
        "id": "6HThA-JeLiXx"
      },
      "execution_count": null,
      "outputs": []
    }
  ]
}