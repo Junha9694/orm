{
  "nbformat": 4,
  "nbformat_minor": 0,
  "metadata": {
    "colab": {
      "provenance": [],
      "authorship_tag": "ABX9TyOjEkysboW9VM5qDig/W08Q",
      "include_colab_link": true
    },
    "kernelspec": {
      "name": "python3",
      "display_name": "Python 3"
    },
    "language_info": {
      "name": "python"
    }
  },
  "cells": [
    {
      "cell_type": "markdown",
      "metadata": {
        "id": "view-in-github",
        "colab_type": "text"
      },
      "source": [
        "<a href=\"https://colab.research.google.com/github/Junha9694/orm/blob/main/Untitled7.ipynb\" target=\"_parent\"><img src=\"https://colab.research.google.com/assets/colab-badge.svg\" alt=\"Open In Colab\"/></a>"
      ]
    },
    {
      "cell_type": "code",
      "execution_count": null,
      "metadata": {
        "id": "WCO8VxuUo0ln"
      },
      "outputs": [],
      "source": [
        "1. 다음 숫자 중 5보다 크고, 20보다 작으면서 짝수인 수를 모두 더하는 코드를 완성 해주세요. 오늘 배운 filter 사용은 필수 입니다.\n",
        "\n",
        "number = [1, 5, 7, 4, 3, 22, 23, 15, 26, 17, 3]\n",
        "def solution(data)\n",
        "    return\n",
        "\n",
        "solution(number)\n",
        "\n",
        "2. 다음에 정보가 담겨져 있는 것을 Class로 만들어주세요. 메서드로는 '할인' 메서드를 만들어주세요. 예를 들어 아래 책을 10% 할인한다고 하면 4500원이 됩니다. `책.할인(10) == 4500`의 형태로 만들어주시면 됩니다.\n",
        "{\n",
        "    '책제목': 'hello world python',\n",
        "    '책 내용 요약': 'hello world...',\n",
        "    '저자': '이호준',\n",
        "    '발행일': '2024-01-11',\n",
        "    '가격': 5000\n",
        "}\n",
        "\n",
        "3. 다음 문제를 풀고 정답을 제출해주세요.\n",
        "3.1 https://100.pyalgo.co.kr/?page=10#\n",
        "3.2 https://100.pyalgo.co.kr/?page=18#"
      ]
    },
    {
      "cell_type": "code",
      "source": [
        "# 1. 다음 숫자 중 5보다 크고, 20보다 작으면서 짝수인 수를 모두 더하는 코드를 완성 해주세요. 오늘 배운 filter 사용은 필수 입니다.\n",
        "\n",
        "number = [1, 5, 7, 4, 3, 22, 23, 15, 26, 17, 3]\n",
        "\n",
        "def solution(data):\n",
        "    num = list(filter(lambda x: (x > 5 and x < 20) and x / 2 == 0, number))\n",
        "    return sum(num)\n",
        "\n",
        "solution(number)"
      ],
      "metadata": {
        "colab": {
          "base_uri": "https://localhost:8080/"
        },
        "id": "z0jME9PQpBfi",
        "outputId": "327ee0b7-a5f7-4edd-fc85-a0eebf780d21"
      },
      "execution_count": 9,
      "outputs": [
        {
          "output_type": "execute_result",
          "data": {
            "text/plain": [
              "0"
            ]
          },
          "metadata": {},
          "execution_count": 9
        }
      ]
    },
    {
      "cell_type": "code",
      "source": [
        "2. 다음에 정보가 담겨져 있는 것을 Class로 만들어주세요.\n",
        "메서드로는 '할인' 메서드를 만들어주세요.\n",
        "예를 들어 아래 책을 10% 할인한다고 하면 4500원이 됩니다.\n",
        "`책.할인(10) == 4500`의 형태로 만들어주시면 됩니다.\n",
        "{\n",
        "    '책제목': 'hello world python',\n",
        "    '책 내용 요약': 'hello world...',\n",
        "    '저자': '이호준',\n",
        "    '발행일': '2024-01-11',\n",
        "    '가격': 5000\n",
        "}"
      ],
      "metadata": {
        "colab": {
          "base_uri": "https://localhost:8080/"
        },
        "id": "lMunYJEqp2Pq",
        "outputId": "bd568868-2e8e-47fd-a22c-ea33954d092d"
      },
      "execution_count": 4,
      "outputs": [
        {
          "output_type": "execute_result",
          "data": {
            "text/plain": [
              "0"
            ]
          },
          "metadata": {},
          "execution_count": 4
        }
      ]
    },
    {
      "cell_type": "code",
      "source": [
        "# 2.\n",
        "class 책:\n",
        "    def __init__(self, name, content, author, date, price):\n",
        "        self.name = name\n",
        "        self.content = content\n",
        "        self.author = author\n",
        "        self.date = date\n",
        "        self.price = price\n",
        "\n",
        "    def 할인(self, discount):\n",
        "        amount = self.price * (discount / 100)\n",
        "        return int(self.price - amount)\n",
        "\n",
        "book = 책('hello world python', 'hello world...', '이호준', '2024-01-11', 5000)\n",
        "book.할인(10)"
      ],
      "metadata": {
        "colab": {
          "base_uri": "https://localhost:8080/"
        },
        "id": "6JUt5hiOrW1R",
        "outputId": "b0f7dc15-db26-4922-e084-ca44e3744d81"
      },
      "execution_count": 14,
      "outputs": [
        {
          "output_type": "execute_result",
          "data": {
            "text/plain": [
              "4500"
            ]
          },
          "metadata": {},
          "execution_count": 14
        }
      ]
    },
    {
      "cell_type": "code",
      "source": [
        "# 3.1\n",
        "def solution(data):\n",
        "    l = list(filter(lambda x: (x[1] + x[2] + x[3] + x[4]) > 350, data)) # 능력치가 350인 캐릭터 확인\n",
        "    list_sorted = sorted([i[0] for i in l]) # 알파벳순 정렬\n",
        "    return list_sorted"
      ],
      "metadata": {
        "id": "_gt-_it9t4Ir"
      },
      "execution_count": null,
      "outputs": []
    },
    {
      "cell_type": "code",
      "source": [
        "# 3.1번\n",
        "def solution(data):\n",
        "    result = []\n",
        "\n",
        "    for character in data:\n",
        "        if sum(character[1:]) >= 350:\n",
        "            result.append(character[0])\n",
        "    return sorted(result)"
      ],
      "metadata": {
        "id": "e7rqu0urvFMy"
      },
      "execution_count": null,
      "outputs": []
    },
    {
      "cell_type": "code",
      "source": [
        "def solution(data):\n",
        "    sorted_data = sorted(data.items(), key=lambda x: (-x[1], x[0]))\n",
        "\n",
        "    top_three = sorted_data[:3]\n",
        "\n",
        "    # 포맷팅\n",
        "    return [f\"{date[2:]}: {temp}\" for date, temp in top_three]"
      ],
      "metadata": {
        "id": "ABP37iClvHOc"
      },
      "execution_count": null,
      "outputs": []
    },
    {
      "cell_type": "code",
      "source": [
        "# 3.2\n",
        "def solution(data):\n",
        "    l = sorted(data.items(), key = lambda x : x[1], reverse = True)[:3]\n",
        "    l2 = [x + \":\" + str(y) for x, y in l]\n",
        "    return l2"
      ],
      "metadata": {
        "id": "WwQZNoQHvIpQ"
      },
      "execution_count": null,
      "outputs": []
    }
  ]
}